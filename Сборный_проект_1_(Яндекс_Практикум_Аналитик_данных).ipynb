{
  "nbformat": 4,
  "nbformat_minor": 0,
  "metadata": {
    "colab": {
      "name": "20210319 Итоговый Сборный проект 1 (Яндекс_Практикум_Аналитик_данных).ipynb",
      "provenance": [],
      "collapsed_sections": []
    },
    "kernelspec": {
      "display_name": "Python 3",
      "language": "python",
      "name": "python3"
    },
    "language_info": {
      "codemirror_mode": {
        "name": "ipython",
        "version": 3
      },
      "file_extension": ".py",
      "mimetype": "text/x-python",
      "name": "python",
      "nbconvert_exporter": "python",
      "pygments_lexer": "ipython3",
      "version": "3.7.8"
    },
    "toc": {
      "base_numbering": 1,
      "nav_menu": {},
      "number_sections": true,
      "sideBar": true,
      "skip_h1_title": true,
      "title_cell": "Table of Contents",
      "title_sidebar": "Contents",
      "toc_cell": false,
      "toc_position": {
        "height": "calc(100% - 180px)",
        "left": "10px",
        "top": "150px",
        "width": "366.391px"
      },
      "toc_section_display": true,
      "toc_window_display": false
    }
  },
  "cells": [
    {
      "cell_type": "markdown",
      "metadata": {
        "id": "bm2dnpmx5UrN"
      },
      "source": [
        "# Сборный проект - 1\n",
        "\n"
      ]
    },
    {
      "cell_type": "markdown",
      "metadata": {
        "id": "jiWszPUF5cCC"
      },
      "source": [
        "# Оглавление"
      ]
    },
    {
      "cell_type": "markdown",
      "metadata": {
        "id": "eRxi_4-m5gXC"
      },
      "source": [
        "[Этап 1. Описание проекта](#1)\n",
        "\n",
        "[Этап 2. Полученние данных](#2)\n",
        "\n",
        "[Этап 3. Предобработка данных](#3)\n",
        "\n",
        "[Этап 4. Исследовательский анализ данных](#4)\n",
        "\n",
        "[Этап 5. Составление портрета игроков каждого региона](#5)\n",
        "\n",
        "[Этап 6. Исследование статистических показателей](#6)\n",
        "\n",
        "[Этап 7. Проверка гипотез](#7)\n",
        "\n",
        "[Этап 8. Общие выводы](#8)"
      ]
    },
    {
      "cell_type": "markdown",
      "metadata": {
        "id": "PoSkvvBGOhct"
      },
      "source": [
        "<a name=\"1\"></a>\n",
        "# Этап 1. Описание проекта\n",
        "\n",
        "Вы работаете в интернет-магазине «Стримчик», который продаёт по всему миру компьютерные игры. Из открытых источников доступны исторические данные о продажах игр, оценки игроков и экспертов, жанры и платформы (например, Xbox или PlayStation). Вам нужно выявить определяющие успешность игры закономерности. Это позволит сделать ставку на потенциально популярный продукт и спланировать рекламные кампании.\n",
        "\n",
        "Перед вами данные до 2016 года. Представим, что сейчас декабрь 2016 г., и вы планируете кампанию на 2017-й. Нужно отработать принцип работы с данными. Не важно, прогнозируете ли вы продажи на 2017 год по данным 2016-го или же 2027-й — по данным 2026 года."
      ]
    },
    {
      "cell_type": "markdown",
      "metadata": {
        "id": "a14Bo9XROo9E"
      },
      "source": [
        "## Описание данных games.csv\n",
        "* Name — название игры\n",
        "* Platform — платформа\n",
        "* Year_of_Release — год выпуска\n",
        "* Genre — жанр игры\n",
        "* NA_sales — продажи в Северной Америке (миллионы долларов)\n",
        "* EU_sales — продажи в Европе (миллионы долларов)\n",
        "* JP_sales — продажи в Японии (миллионы долларов)\n",
        "* Other_sales — продажи в других странах (миллионы долларов)\n",
        "* Critic_Score — оценка критиков (от 0 до 100)\n",
        "* User_Score — оценка пользователей (от 0 до 10)\n",
        "* Rating — рейтинг от организации ESRB (англ. Entertainment Software Rating Board). Эта ассоциация определяет рейтинг компьютерных игр и присваивает им подходящую возрастную категорию.\n",
        "\n",
        "Данные за 2016 год могут быть неполными."
      ]
    },
    {
      "cell_type": "markdown",
      "metadata": {
        "id": "PYZMoaRsPMXw"
      },
      "source": [
        "<a name=\"2\"></a>\n",
        "# Этап 2. Получение данных"
      ]
    },
    {
      "cell_type": "markdown",
      "metadata": {
        "id": "iOnC8DH0P1jw"
      },
      "source": [
        "Получим и изучим данные, предоставленные для проекта."
      ]
    },
    {
      "cell_type": "markdown",
      "metadata": {
        "id": "JSBfTGRgP6OJ"
      },
      "source": [
        "## 2.1 Импорт библиотек"
      ]
    },
    {
      "cell_type": "code",
      "metadata": {
        "id": "N_Qra2fJP-d1"
      },
      "source": [
        "import pandas as pd\n",
        "import seaborn as sns\n",
        "import matplotlib.pyplot as plt\n",
        "import pylab as pl\n",
        "from scipy import stats as st  \n",
        "\n",
        "%matplotlib inline  "
      ],
      "execution_count": 1,
      "outputs": []
    },
    {
      "cell_type": "markdown",
      "metadata": {
        "id": "S63uzmdWUKn1"
      },
      "source": [
        "## 2.2 Загрузка данных"
      ]
    },
    {
      "cell_type": "markdown",
      "metadata": {
        "id": "6u6NY9jbQEIc"
      },
      "source": [
        "Загрузим файл `games.csv` и сохраним его в переменной `df`, а также посмотрим структуру таблицы."
      ]
    },
    {
      "cell_type": "code",
      "metadata": {
        "id": "MVfhogD5QOKc",
        "colab": {
          "base_uri": "https://localhost:8080/",
          "height": 204
        },
        "outputId": "44c95c87-8564-4bf3-897f-47c5380d58d1"
      },
      "source": [
        "df = pd.read_csv('https://code.s3.yandex.net/datasets/games.csv')  # чтение базы данных\n",
        "\n",
        "df.head(5)"
      ],
      "execution_count": 2,
      "outputs": [
        {
          "output_type": "execute_result",
          "data": {
            "text/html": [
              "<div>\n",
              "<style scoped>\n",
              "    .dataframe tbody tr th:only-of-type {\n",
              "        vertical-align: middle;\n",
              "    }\n",
              "\n",
              "    .dataframe tbody tr th {\n",
              "        vertical-align: top;\n",
              "    }\n",
              "\n",
              "    .dataframe thead th {\n",
              "        text-align: right;\n",
              "    }\n",
              "</style>\n",
              "<table border=\"1\" class=\"dataframe\">\n",
              "  <thead>\n",
              "    <tr style=\"text-align: right;\">\n",
              "      <th></th>\n",
              "      <th>Name</th>\n",
              "      <th>Platform</th>\n",
              "      <th>Year_of_Release</th>\n",
              "      <th>Genre</th>\n",
              "      <th>NA_sales</th>\n",
              "      <th>EU_sales</th>\n",
              "      <th>JP_sales</th>\n",
              "      <th>Other_sales</th>\n",
              "      <th>Critic_Score</th>\n",
              "      <th>User_Score</th>\n",
              "      <th>Rating</th>\n",
              "    </tr>\n",
              "  </thead>\n",
              "  <tbody>\n",
              "    <tr>\n",
              "      <th>0</th>\n",
              "      <td>Wii Sports</td>\n",
              "      <td>Wii</td>\n",
              "      <td>2006.0</td>\n",
              "      <td>Sports</td>\n",
              "      <td>41.36</td>\n",
              "      <td>28.96</td>\n",
              "      <td>3.77</td>\n",
              "      <td>8.45</td>\n",
              "      <td>76.0</td>\n",
              "      <td>8</td>\n",
              "      <td>E</td>\n",
              "    </tr>\n",
              "    <tr>\n",
              "      <th>1</th>\n",
              "      <td>Super Mario Bros.</td>\n",
              "      <td>NES</td>\n",
              "      <td>1985.0</td>\n",
              "      <td>Platform</td>\n",
              "      <td>29.08</td>\n",
              "      <td>3.58</td>\n",
              "      <td>6.81</td>\n",
              "      <td>0.77</td>\n",
              "      <td>NaN</td>\n",
              "      <td>NaN</td>\n",
              "      <td>NaN</td>\n",
              "    </tr>\n",
              "    <tr>\n",
              "      <th>2</th>\n",
              "      <td>Mario Kart Wii</td>\n",
              "      <td>Wii</td>\n",
              "      <td>2008.0</td>\n",
              "      <td>Racing</td>\n",
              "      <td>15.68</td>\n",
              "      <td>12.76</td>\n",
              "      <td>3.79</td>\n",
              "      <td>3.29</td>\n",
              "      <td>82.0</td>\n",
              "      <td>8.3</td>\n",
              "      <td>E</td>\n",
              "    </tr>\n",
              "    <tr>\n",
              "      <th>3</th>\n",
              "      <td>Wii Sports Resort</td>\n",
              "      <td>Wii</td>\n",
              "      <td>2009.0</td>\n",
              "      <td>Sports</td>\n",
              "      <td>15.61</td>\n",
              "      <td>10.93</td>\n",
              "      <td>3.28</td>\n",
              "      <td>2.95</td>\n",
              "      <td>80.0</td>\n",
              "      <td>8</td>\n",
              "      <td>E</td>\n",
              "    </tr>\n",
              "    <tr>\n",
              "      <th>4</th>\n",
              "      <td>Pokemon Red/Pokemon Blue</td>\n",
              "      <td>GB</td>\n",
              "      <td>1996.0</td>\n",
              "      <td>Role-Playing</td>\n",
              "      <td>11.27</td>\n",
              "      <td>8.89</td>\n",
              "      <td>10.22</td>\n",
              "      <td>1.00</td>\n",
              "      <td>NaN</td>\n",
              "      <td>NaN</td>\n",
              "      <td>NaN</td>\n",
              "    </tr>\n",
              "  </tbody>\n",
              "</table>\n",
              "</div>"
            ],
            "text/plain": [
              "                       Name Platform  ...  User_Score Rating\n",
              "0                Wii Sports      Wii  ...           8      E\n",
              "1         Super Mario Bros.      NES  ...         NaN    NaN\n",
              "2            Mario Kart Wii      Wii  ...         8.3      E\n",
              "3         Wii Sports Resort      Wii  ...           8      E\n",
              "4  Pokemon Red/Pokemon Blue       GB  ...         NaN    NaN\n",
              "\n",
              "[5 rows x 11 columns]"
            ]
          },
          "metadata": {
            "tags": []
          },
          "execution_count": 2
        }
      ]
    },
    {
      "cell_type": "markdown",
      "metadata": {
        "id": "anTsU4evUhm7"
      },
      "source": [
        "## 2.3 Общая информация о данных таблицы df."
      ]
    },
    {
      "cell_type": "code",
      "metadata": {
        "colab": {
          "base_uri": "https://localhost:8080/"
        },
        "id": "9OCjPfkbUlcq",
        "outputId": "40d2af9c-6de6-4474-a65e-1b573830c01a"
      },
      "source": [
        "df.info()"
      ],
      "execution_count": 3,
      "outputs": [
        {
          "output_type": "stream",
          "text": [
            "<class 'pandas.core.frame.DataFrame'>\n",
            "RangeIndex: 16715 entries, 0 to 16714\n",
            "Data columns (total 11 columns):\n",
            " #   Column           Non-Null Count  Dtype  \n",
            "---  ------           --------------  -----  \n",
            " 0   Name             16713 non-null  object \n",
            " 1   Platform         16715 non-null  object \n",
            " 2   Year_of_Release  16446 non-null  float64\n",
            " 3   Genre            16713 non-null  object \n",
            " 4   NA_sales         16715 non-null  float64\n",
            " 5   EU_sales         16715 non-null  float64\n",
            " 6   JP_sales         16715 non-null  float64\n",
            " 7   Other_sales      16715 non-null  float64\n",
            " 8   Critic_Score     8137 non-null   float64\n",
            " 9   User_Score       10014 non-null  object \n",
            " 10  Rating           9949 non-null   object \n",
            "dtypes: float64(6), object(5)\n",
            "memory usage: 1.4+ MB\n"
          ],
          "name": "stdout"
        }
      ]
    },
    {
      "cell_type": "markdown",
      "metadata": {
        "id": "39V6uWJTUp9f"
      },
      "source": [
        "Рассмотрим подробно полученную информацию.\n",
        "\n",
        "Всего в таблице 11 столбцов, тип данных у столбцов object и float64.\n",
        "\n",
        "Подробно разберём, какую информацию содержать столбцы базы данных df:\n",
        "\n",
        "* Name — название игры\n",
        "* Platform — платформа\n",
        "* Year_of_Release — год выпуска\n",
        "* Genre — жанр игры\n",
        "* NA_sales — продажи в Северной Америке (миллионы долларов)\n",
        "* EU_sales — продажи в Европе (миллионы долларов)\n",
        "* JP_sales — продажи в Японии (миллионы долларов)\n",
        "* Other_sales — продажи в других странах (миллионы долларов)\n",
        "* Critic_Score — оценка критиков (от 0 до 100)\n",
        "* User_Score — оценка пользователей (от 0 до 10)\n",
        "* Rating — рейтинг от организации ESRB (англ. Entertainment Software Rating Board). Эта ассоциация определяет рейтинг компьютерных игр и присваивает им подходящую возрастную категорию.\n",
        "\n",
        "Количество значений в столбцах различаются, что указывает на наличие пропущенных значений в данных."
      ]
    },
    {
      "cell_type": "markdown",
      "metadata": {
        "id": "PryiPICYVlhG"
      },
      "source": [
        "## **Выводы**"
      ]
    },
    {
      "cell_type": "markdown",
      "metadata": {
        "id": "50IbE3GxVq4T"
      },
      "source": [
        "Каждая строка таблицы содержит данные о названии игры, когда игра выпущена, на какой платформе, продажи в разных регионах и различные оценки.\n",
        "\n",
        "Типы данных соответствуют столбцам, кроме User_Score, тип столбца небоходимо перевести в вещественные числа.\n",
        "\n",
        "В данных имеются пропуски, возможные причины:\n",
        "* Даты выпуска игр начинаются с 1980 года, для части старых игр установка точной даты выпуска может быть затруднительной;\n",
        "* Оценивание игр могло не проводится.\n",
        "\n",
        "Для подготовки данных к анализу следует решить следующие задачи:\n",
        "* Заменить названия столбцов (привести к нижнему регистру);\n",
        "* Преобразавать данные в нужные типы:\n",
        "  * оценки игроков преобразовать в вещественный тип и обработать исключения;\n",
        "* Обработать пропуски:\n",
        "  * Имеются 2 пропуска в `именах` и `жанрах`;\n",
        "  * Пропуски для `годов` и `оценок` следует оставить и исключать в исследованиих, где недопустимы пропуски;\n",
        "* Посчитать суммарные продажи во всех регионах и записать результаты в отдельный столбец, для использования в аналитических расчётах."
      ]
    },
    {
      "cell_type": "markdown",
      "metadata": {
        "id": "dbL1iYkAbAuM"
      },
      "source": [
        "<a name=\"3\"></a>\n",
        "# Этап 3. Предобработка данных"
      ]
    },
    {
      "cell_type": "markdown",
      "metadata": {
        "id": "lPhiHELb2FlR"
      },
      "source": [
        "## 3.1 Исправление названий столбцов"
      ]
    },
    {
      "cell_type": "markdown",
      "metadata": {
        "id": "NUXxudL0bJcZ"
      },
      "source": [
        "Проверим название столбцов на \"невидимые\" символы."
      ]
    },
    {
      "cell_type": "code",
      "metadata": {
        "colab": {
          "base_uri": "https://localhost:8080/"
        },
        "id": "ZSuZ_lKSdLmU",
        "outputId": "776d216e-0110-4969-c6ae-6a9985cc472a"
      },
      "source": [
        "print(df.columns)"
      ],
      "execution_count": 4,
      "outputs": [
        {
          "output_type": "stream",
          "text": [
            "Index(['Name', 'Platform', 'Year_of_Release', 'Genre', 'NA_sales', 'EU_sales',\n",
            "       'JP_sales', 'Other_sales', 'Critic_Score', 'User_Score', 'Rating'],\n",
            "      dtype='object')\n"
          ],
          "name": "stdout"
        }
      ]
    },
    {
      "cell_type": "markdown",
      "metadata": {
        "id": "dCflAZd9ddPU"
      },
      "source": [
        "В названиях отсутствуют лишние \"невидимые\" символы."
      ]
    },
    {
      "cell_type": "markdown",
      "metadata": {
        "id": "vVetvrbBdlnh"
      },
      "source": [
        "Для удобства использования:\n",
        "* переведём названия столбцов в нижний регистр;\n",
        "* дадим более понятные названия столбцов:\n",
        "  * `game_name` для `name`;\n",
        "  * `platform_name` для `platform`;\n",
        "  * `genre_name` для `genre`;\n",
        "  * `gamer_score` для `user_score`;\n",
        "  * `esrb_rating` для `rating`.\n"
      ]
    },
    {
      "cell_type": "markdown",
      "metadata": {
        "id": "pF20RR9ET1O4"
      },
      "source": [
        "Используем переименование методом `rename`, чтобы при смене структуры таблицы и порядка столбцов не возникало ошибок."
      ]
    },
    {
      "cell_type": "code",
      "metadata": {
        "id": "-YvwzIoFdvUO",
        "colab": {
          "base_uri": "https://localhost:8080/"
        },
        "outputId": "223d975f-85b4-47fb-90c2-637565e936e2"
      },
      "source": [
        "update_columns_names = ['game_name',\n",
        "                        'platform_name',\n",
        "                        'year_of_release',\n",
        "                        'genre_name',\n",
        "                        'na_sales',\n",
        "                        'eu_sales',\n",
        "                        'jp_sales',\n",
        "                        'other_sales',\n",
        "                        'critic_score',\n",
        "                        'gamer_score',\n",
        "                        'esrb_rating']\n",
        "\n",
        "keys = df.columns\n",
        "values = update_columns_names\n",
        "rename_dictionary = dict(zip(keys, values))\n",
        "\n",
        "df.rename(rename_dictionary, axis='columns', inplace=True)\n",
        "print('Новые названия столбцов:', *df.columns, sep='\\n')"
      ],
      "execution_count": 5,
      "outputs": [
        {
          "output_type": "stream",
          "text": [
            "Новые названия столбцов:\n",
            "game_name\n",
            "platform_name\n",
            "year_of_release\n",
            "genre_name\n",
            "na_sales\n",
            "eu_sales\n",
            "jp_sales\n",
            "other_sales\n",
            "critic_score\n",
            "gamer_score\n",
            "esrb_rating\n"
          ],
          "name": "stdout"
        }
      ]
    },
    {
      "cell_type": "markdown",
      "metadata": {
        "id": "SFfFGRoFJep2"
      },
      "source": [
        "## 3.2 Исправление типа данных"
      ]
    },
    {
      "cell_type": "markdown",
      "metadata": {
        "id": "Jt4HDz9sB5NP"
      },
      "source": [
        "Перед обработкой данных необходимо сменить тип данных:\n",
        "* тип данных `gamer_score` необходимо сменить с типа данных `object` на вещественный тип данных `float`."
      ]
    },
    {
      "cell_type": "code",
      "metadata": {
        "id": "s2mzX9qOCE6U"
      },
      "source": [
        "# <замена методом to_numeric типа данных столбца 'gamer_score' c object на float>\n",
        "# используется параметр errors='coerce' для замены нечисловых значений на NaN\n",
        "df['gamer_score'] = pd.to_numeric(df['gamer_score'], errors='coerce')"
      ],
      "execution_count": 6,
      "outputs": []
    },
    {
      "cell_type": "code",
      "metadata": {
        "colab": {
          "base_uri": "https://localhost:8080/"
        },
        "id": "wZh3x4g_ERzD",
        "outputId": "5adf5933-ad8e-4ddf-8d51-ef5a44a67839"
      },
      "source": [
        "# <проверка изменения типа столбца 'gamer_score' c object на float>\n",
        "df.info()"
      ],
      "execution_count": 7,
      "outputs": [
        {
          "output_type": "stream",
          "text": [
            "<class 'pandas.core.frame.DataFrame'>\n",
            "RangeIndex: 16715 entries, 0 to 16714\n",
            "Data columns (total 11 columns):\n",
            " #   Column           Non-Null Count  Dtype  \n",
            "---  ------           --------------  -----  \n",
            " 0   game_name        16713 non-null  object \n",
            " 1   platform_name    16715 non-null  object \n",
            " 2   year_of_release  16446 non-null  float64\n",
            " 3   genre_name       16713 non-null  object \n",
            " 4   na_sales         16715 non-null  float64\n",
            " 5   eu_sales         16715 non-null  float64\n",
            " 6   jp_sales         16715 non-null  float64\n",
            " 7   other_sales      16715 non-null  float64\n",
            " 8   critic_score     8137 non-null   float64\n",
            " 9   gamer_score      7590 non-null   float64\n",
            " 10  esrb_rating      9949 non-null   object \n",
            "dtypes: float64(7), object(4)\n",
            "memory usage: 1.4+ MB\n"
          ],
          "name": "stdout"
        }
      ]
    },
    {
      "cell_type": "markdown",
      "metadata": {
        "id": "9Hf5rsvQK2mg"
      },
      "source": [
        "Теперь типы данных соответствуют данным в столбцах."
      ]
    },
    {
      "cell_type": "markdown",
      "metadata": {
        "id": "GuJuHjnO2RcZ"
      },
      "source": [
        "## 3.3 Обработка пропусков"
      ]
    },
    {
      "cell_type": "markdown",
      "metadata": {
        "id": "i--j54MdfzGp"
      },
      "source": [
        "Посчитаем количество пропусков"
      ]
    },
    {
      "cell_type": "code",
      "metadata": {
        "colab": {
          "base_uri": "https://localhost:8080/",
          "height": 367
        },
        "id": "zrUkpI6PgDtG",
        "outputId": "0af9fb5f-7762-4f2a-9e53-8a92c43d386d"
      },
      "source": [
        "# <суммарное количество пропусков, выявленных методом isnull() в таблице df>\n",
        "df.isnull().sum().plot(kind='bar', title='Количество пропусков')"
      ],
      "execution_count": 8,
      "outputs": [
        {
          "output_type": "execute_result",
          "data": {
            "text/plain": [
              "<matplotlib.axes._subplots.AxesSubplot at 0x7f86dc75ff90>"
            ]
          },
          "metadata": {
            "tags": []
          },
          "execution_count": 8
        },
        {
          "output_type": "display_data",
          "data": {
            "image/png": "[encoded data removed]",
            "text/plain": [
              "<Figure size 432x288 with 1 Axes>"
            ]
          },
          "metadata": {
            "tags": [],
            "needs_background": "light"
          }
        }
      ]
    },
    {
      "cell_type": "markdown",
      "metadata": {
        "id": "LdWvgDnvqzCw"
      },
      "source": [
        "Пустые значения свидетельствуют, что для некоторых игр доступна не вся информация.\n",
        "\n",
        "Причины могут быть разными:\n",
        "* общая причина, что данные были загружены не полностью;\n",
        "* год выпуска игры мог быть пропущен или имеются сложности в опредленнии даты выпуска старых игр;\n",
        "* для разных игр проводится разное оценивание, пропуски могут свидетельствовать, что данное оценивание вообще не проводилось для игры;\n",
        "* имеются 2 пропуска в имени и жанре игр, данный случай можно рассмотреть вручную.\n",
        "\n",
        "Причины всех пропусков необходимо разобрать, выявить и устранить причины пропусков."
      ]
    },
    {
      "cell_type": "markdown",
      "metadata": {
        "id": "3XxxHP7asVMB"
      },
      "source": [
        "Изучаем случаи с 2 пропусками в названии и жанрах."
      ]
    },
    {
      "cell_type": "code",
      "metadata": {
        "colab": {
          "base_uri": "https://localhost:8080/",
          "height": 111
        },
        "id": "UpItfA1lsbts",
        "outputId": "97cb52b7-5afb-4c77-ee1b-74c2ae6d6291"
      },
      "source": [
        "# выводим на экран пропуски в имени\n",
        "df[df['game_name'].isnull()].head()"
      ],
      "execution_count": 9,
      "outputs": [
        {
          "output_type": "execute_result",
          "data": {
            "text/html": [
              "<div>\n",
              "<style scoped>\n",
              "    .dataframe tbody tr th:only-of-type {\n",
              "        vertical-align: middle;\n",
              "    }\n",
              "\n",
              "    .dataframe tbody tr th {\n",
              "        vertical-align: top;\n",
              "    }\n",
              "\n",
              "    .dataframe thead th {\n",
              "        text-align: right;\n",
              "    }\n",
              "</style>\n",
              "<table border=\"1\" class=\"dataframe\">\n",
              "  <thead>\n",
              "    <tr style=\"text-align: right;\">\n",
              "      <th></th>\n",
              "      <th>game_name</th>\n",
              "      <th>platform_name</th>\n",
              "      <th>year_of_release</th>\n",
              "      <th>genre_name</th>\n",
              "      <th>na_sales</th>\n",
              "      <th>eu_sales</th>\n",
              "      <th>jp_sales</th>\n",
              "      <th>other_sales</th>\n",
              "      <th>critic_score</th>\n",
              "      <th>gamer_score</th>\n",
              "      <th>esrb_rating</th>\n",
              "    </tr>\n",
              "  </thead>\n",
              "  <tbody>\n",
              "    <tr>\n",
              "      <th>659</th>\n",
              "      <td>NaN</td>\n",
              "      <td>GEN</td>\n",
              "      <td>1993.0</td>\n",
              "      <td>NaN</td>\n",
              "      <td>1.78</td>\n",
              "      <td>0.53</td>\n",
              "      <td>0.00</td>\n",
              "      <td>0.08</td>\n",
              "      <td>NaN</td>\n",
              "      <td>NaN</td>\n",
              "      <td>NaN</td>\n",
              "    </tr>\n",
              "    <tr>\n",
              "      <th>14244</th>\n",
              "      <td>NaN</td>\n",
              "      <td>GEN</td>\n",
              "      <td>1993.0</td>\n",
              "      <td>NaN</td>\n",
              "      <td>0.00</td>\n",
              "      <td>0.00</td>\n",
              "      <td>0.03</td>\n",
              "      <td>0.00</td>\n",
              "      <td>NaN</td>\n",
              "      <td>NaN</td>\n",
              "      <td>NaN</td>\n",
              "    </tr>\n",
              "  </tbody>\n",
              "</table>\n",
              "</div>"
            ],
            "text/plain": [
              "      game_name platform_name  ...  gamer_score esrb_rating\n",
              "659         NaN           GEN  ...          NaN         NaN\n",
              "14244       NaN           GEN  ...          NaN         NaN\n",
              "\n",
              "[2 rows x 11 columns]"
            ]
          },
          "metadata": {
            "tags": []
          },
          "execution_count": 9
        }
      ]
    },
    {
      "cell_type": "markdown",
      "metadata": {
        "id": "i_qPWDv_tJk5"
      },
      "source": [
        "Величина продаж незначительная, поэтому данные следует удалить из-за пропуска жанра, создавать незнакомый жанр с незанкомыми играми из-за 2 записей нецелесообразно."
      ]
    },
    {
      "cell_type": "code",
      "metadata": {
        "id": "U9xnJ8dsuWoq"
      },
      "source": [
        "# <удаление взаимосвязанных пропущенных значений в столбце 'genre_name' и 'game_name'>\n",
        "df.dropna(subset=['genre_name'], inplace=True)"
      ],
      "execution_count": 10,
      "outputs": []
    },
    {
      "cell_type": "markdown",
      "metadata": {
        "id": "V4t_7d4jJq8E"
      },
      "source": [
        "Изучим варианты значения столбца 'esrb_rating'"
      ]
    },
    {
      "cell_type": "code",
      "metadata": {
        "colab": {
          "base_uri": "https://localhost:8080/",
          "height": 282
        },
        "id": "fDq4-gy_HDDs",
        "scrolled": true,
        "outputId": "d87baebf-ce95-406d-f6ba-f62ad60b7280"
      },
      "source": [
        "# <вывод методом groupby на экран варианты значений столбца 'esbr_rating'>\n",
        "df.groupby('esrb_rating')['esrb_rating'].count().plot(kind='barh')"
      ],
      "execution_count": 11,
      "outputs": [
        {
          "output_type": "execute_result",
          "data": {
            "text/plain": [
              "<matplotlib.axes._subplots.AxesSubplot at 0x7f86db90d5d0>"
            ]
          },
          "metadata": {
            "tags": []
          },
          "execution_count": 11
        },
        {
          "output_type": "display_data",
          "data": {
            "image/png": "[encoded data removed]",
            "text/plain": [
              "<Figure size 432x288 with 1 Axes>"
            ]
          },
          "metadata": {
            "tags": [],
            "needs_background": "light"
          }
        }
      ]
    },
    {
      "cell_type": "markdown",
      "metadata": {
        "id": "xA7qGIqrKJFm"
      },
      "source": [
        "Значения столбца `'esbr_rating'` может принимать 8 различных строковых значений.\n",
        "\n",
        "Пропусков в столбце `'esbr_rating'` имеется около 6,5 тысяч, что является статистически значимым и удаление пропусков заметно повлияет на результаты анализа, поэтому строки с пропусками следует оставить.\n",
        "\n",
        "Пропуски рейтингов удобно обобщить в отдельную категорию \"неизвестные\" и присвоить значение `'unknown'`"
      ]
    },
    {
      "cell_type": "code",
      "metadata": {
        "id": "LHfpwEnALVGf",
        "colab": {
          "base_uri": "https://localhost:8080/",
          "height": 298
        },
        "outputId": "07cb30f0-33af-4a29-c482-f6ac0d086fd6"
      },
      "source": [
        "# <замена пропусков в стобце 'esbr_rating' методом замены fillna()>\n",
        "df['esrb_rating'] = df['esrb_rating'].fillna('unknown')\n",
        "\n",
        "# <проверка результатов замены пропусков>\n",
        "df.isna().sum().plot(kind='barh', title='Итоговое состояние пропусков')"
      ],
      "execution_count": 12,
      "outputs": [
        {
          "output_type": "execute_result",
          "data": {
            "text/plain": [
              "<matplotlib.axes._subplots.AxesSubplot at 0x7f86da953b50>"
            ]
          },
          "metadata": {
            "tags": []
          },
          "execution_count": 12
        },
        {
          "output_type": "display_data",
          "data": {
            "image/png": "[encoded data removed]",
            "text/plain": [
              "<Figure size 432x288 with 1 Axes>"
            ]
          },
          "metadata": {
            "tags": [],
            "needs_background": "light"
          }
        }
      ]
    },
    {
      "cell_type": "markdown",
      "metadata": {
        "id": "FUnb39c56ztt"
      },
      "source": [
        "Пропуски в оценках и годах составляет значительное количество, поэтому их следует обрабатывать непосредственно перед исследованиями, где это необходимо, для остальных исследований, пригодится более широкий набор данных."
      ]
    },
    {
      "cell_type": "markdown",
      "metadata": {
        "id": "v0vxx_VPc1Zx"
      },
      "source": [
        "## 3.4 Обработка дубликатов"
      ]
    },
    {
      "cell_type": "markdown",
      "metadata": {
        "id": "6xUPPkePMBKV"
      },
      "source": [
        "Далее следует проверить данные на наличие дубликатов."
      ]
    },
    {
      "cell_type": "code",
      "metadata": {
        "colab": {
          "base_uri": "https://localhost:8080/"
        },
        "id": "PLdJgAAqMKxI",
        "outputId": "d4f18b6c-81bd-4dcc-fc43-b97122e6f190"
      },
      "source": [
        "# <получение суммарного количества дубликатов в таблице df методом duplicated()>\n",
        "print('Количество дубликатов:', df.duplicated().sum())"
      ],
      "execution_count": 13,
      "outputs": [
        {
          "output_type": "stream",
          "text": [
            "Количество дубликатов: 0\n"
          ],
          "name": "stdout"
        }
      ]
    },
    {
      "cell_type": "markdown",
      "metadata": {
        "id": "vaRT6i0FMqZU"
      },
      "source": [
        "Дубликатов не обнаружено, однако возможно наличие дублирующих записей без полного сходства.\n",
        "\n",
        "Например, названия одного и того же жанра может различаться формулировками.\n",
        "\n",
        "Изучим список уникальных называний жанров."
      ]
    },
    {
      "cell_type": "code",
      "metadata": {
        "colab": {
          "base_uri": "https://localhost:8080/"
        },
        "id": "UsLUEgXkN04E",
        "outputId": "3fa434f9-3694-4950-e0e8-0ee5e8d26c28"
      },
      "source": [
        "# <сохраниние в переменной genres_list списка уникальных значений\n",
        "# выявленных методом unique()>\n",
        "genres_list = df['genre_name'].unique()\n",
        "\n",
        "print('Название жанров:', *genres_list, sep='\\n')"
      ],
      "execution_count": 14,
      "outputs": [
        {
          "output_type": "stream",
          "text": [
            "Название жанров:\n",
            "Sports\n",
            "Platform\n",
            "Racing\n",
            "Role-Playing\n",
            "Puzzle\n",
            "Misc\n",
            "Shooter\n",
            "Simulation\n",
            "Action\n",
            "Fighting\n",
            "Adventure\n",
            "Strategy\n"
          ],
          "name": "stdout"
        }
      ]
    },
    {
      "cell_type": "markdown",
      "metadata": {
        "id": "1iFTXqkROe0U"
      },
      "source": [
        "Список жанров не содержит дублирующих названий одного и того же жанра в разных формулировках."
      ]
    },
    {
      "cell_type": "markdown",
      "metadata": {
        "id": "8SKIlIE8PYpJ"
      },
      "source": [
        "Следует проверить возможность дублирующих названий игр, в зависимости от регистра."
      ]
    },
    {
      "cell_type": "code",
      "metadata": {
        "colab": {
          "base_uri": "https://localhost:8080/",
          "height": 298
        },
        "id": "NGwKhXZIOt-l",
        "outputId": "4cc3f066-a717-40a4-d05f-a775801d391e"
      },
      "source": [
        "# <вывод на экран 5 групп повторяющихся названий игр в едином нижнем регистре>\n",
        "# str.lower() приводит все символы строк в нижний регистр\n",
        "# value_counts() подсчитывает количество повторяющихся значений\n",
        "(\n",
        "    df['game_name']\n",
        "    .str.lower()\n",
        "    .value_counts()\n",
        "    .head(10)\n",
        "    .sort_values(ascending=True)\n",
        "    .plot(kind='barh', title='Количество совпадений по названиям')\n",
        ")"
      ],
      "execution_count": 15,
      "outputs": [
        {
          "output_type": "execute_result",
          "data": {
            "text/plain": [
              "<matplotlib.axes._subplots.AxesSubplot at 0x7f86da73f710>"
            ]
          },
          "metadata": {
            "tags": []
          },
          "execution_count": 15
        },
        {
          "output_type": "display_data",
          "data": {
            "image/png": "[encoded data removed]",
            "text/plain": [
              "<Figure size 432x288 with 1 Axes>"
            ]
          },
          "metadata": {
            "tags": [],
            "needs_background": "light"
          }
        }
      ]
    },
    {
      "cell_type": "markdown",
      "metadata": {
        "id": "TSsuKGlGRPkS"
      },
      "source": [
        "Проверим на наличие дубликатов название Need for Speed: Most Wanted, которое встречается 12 раз."
      ]
    },
    {
      "cell_type": "code",
      "metadata": {
        "colab": {
          "base_uri": "https://localhost:8080/",
          "height": 421
        },
        "id": "HsnsqT8fPG50",
        "outputId": "798b4f4c-bd13-4804-a95a-d7987796a510"
      },
      "source": [
        "# <вывод на данных по запросу 'need for speed: most wanted'>\n",
        "# str.lower() приводит все символы строк в нижний регистр\n",
        "df[df['game_name'].str.lower() == 'need for speed: most wanted']"
      ],
      "execution_count": 16,
      "outputs": [
        {
          "output_type": "execute_result",
          "data": {
            "text/html": [
              "<div>\n",
              "<style scoped>\n",
              "    .dataframe tbody tr th:only-of-type {\n",
              "        vertical-align: middle;\n",
              "    }\n",
              "\n",
              "    .dataframe tbody tr th {\n",
              "        vertical-align: top;\n",
              "    }\n",
              "\n",
              "    .dataframe thead th {\n",
              "        text-align: right;\n",
              "    }\n",
              "</style>\n",
              "<table border=\"1\" class=\"dataframe\">\n",
              "  <thead>\n",
              "    <tr style=\"text-align: right;\">\n",
              "      <th></th>\n",
              "      <th>game_name</th>\n",
              "      <th>platform_name</th>\n",
              "      <th>year_of_release</th>\n",
              "      <th>genre_name</th>\n",
              "      <th>na_sales</th>\n",
              "      <th>eu_sales</th>\n",
              "      <th>jp_sales</th>\n",
              "      <th>other_sales</th>\n",
              "      <th>critic_score</th>\n",
              "      <th>gamer_score</th>\n",
              "      <th>esrb_rating</th>\n",
              "    </tr>\n",
              "  </thead>\n",
              "  <tbody>\n",
              "    <tr>\n",
              "      <th>253</th>\n",
              "      <td>Need for Speed: Most Wanted</td>\n",
              "      <td>PS2</td>\n",
              "      <td>2005.0</td>\n",
              "      <td>Racing</td>\n",
              "      <td>2.03</td>\n",
              "      <td>1.79</td>\n",
              "      <td>0.08</td>\n",
              "      <td>0.47</td>\n",
              "      <td>82.0</td>\n",
              "      <td>9.1</td>\n",
              "      <td>T</td>\n",
              "    </tr>\n",
              "    <tr>\n",
              "      <th>523</th>\n",
              "      <td>Need for Speed: Most Wanted</td>\n",
              "      <td>PS3</td>\n",
              "      <td>2012.0</td>\n",
              "      <td>Racing</td>\n",
              "      <td>0.71</td>\n",
              "      <td>1.46</td>\n",
              "      <td>0.06</td>\n",
              "      <td>0.58</td>\n",
              "      <td>NaN</td>\n",
              "      <td>NaN</td>\n",
              "      <td>unknown</td>\n",
              "    </tr>\n",
              "    <tr>\n",
              "      <th>1190</th>\n",
              "      <td>Need for Speed: Most Wanted</td>\n",
              "      <td>X360</td>\n",
              "      <td>2012.0</td>\n",
              "      <td>Racing</td>\n",
              "      <td>0.62</td>\n",
              "      <td>0.78</td>\n",
              "      <td>0.01</td>\n",
              "      <td>0.15</td>\n",
              "      <td>83.0</td>\n",
              "      <td>8.5</td>\n",
              "      <td>T</td>\n",
              "    </tr>\n",
              "    <tr>\n",
              "      <th>1591</th>\n",
              "      <td>Need for Speed: Most Wanted</td>\n",
              "      <td>X360</td>\n",
              "      <td>2005.0</td>\n",
              "      <td>Racing</td>\n",
              "      <td>1.00</td>\n",
              "      <td>0.13</td>\n",
              "      <td>0.02</td>\n",
              "      <td>0.10</td>\n",
              "      <td>83.0</td>\n",
              "      <td>8.5</td>\n",
              "      <td>T</td>\n",
              "    </tr>\n",
              "    <tr>\n",
              "      <th>1998</th>\n",
              "      <td>Need for Speed: Most Wanted</td>\n",
              "      <td>XB</td>\n",
              "      <td>2005.0</td>\n",
              "      <td>Racing</td>\n",
              "      <td>0.53</td>\n",
              "      <td>0.46</td>\n",
              "      <td>0.00</td>\n",
              "      <td>0.05</td>\n",
              "      <td>83.0</td>\n",
              "      <td>8.8</td>\n",
              "      <td>T</td>\n",
              "    </tr>\n",
              "    <tr>\n",
              "      <th>2048</th>\n",
              "      <td>Need for Speed: Most Wanted</td>\n",
              "      <td>PSV</td>\n",
              "      <td>2012.0</td>\n",
              "      <td>Racing</td>\n",
              "      <td>0.33</td>\n",
              "      <td>0.45</td>\n",
              "      <td>0.01</td>\n",
              "      <td>0.22</td>\n",
              "      <td>NaN</td>\n",
              "      <td>NaN</td>\n",
              "      <td>unknown</td>\n",
              "    </tr>\n",
              "    <tr>\n",
              "      <th>3581</th>\n",
              "      <td>Need for Speed: Most Wanted</td>\n",
              "      <td>GC</td>\n",
              "      <td>2005.0</td>\n",
              "      <td>Racing</td>\n",
              "      <td>0.43</td>\n",
              "      <td>0.11</td>\n",
              "      <td>0.00</td>\n",
              "      <td>0.02</td>\n",
              "      <td>80.0</td>\n",
              "      <td>9.1</td>\n",
              "      <td>T</td>\n",
              "    </tr>\n",
              "    <tr>\n",
              "      <th>5972</th>\n",
              "      <td>Need for Speed: Most Wanted</td>\n",
              "      <td>PC</td>\n",
              "      <td>2005.0</td>\n",
              "      <td>Racing</td>\n",
              "      <td>0.02</td>\n",
              "      <td>0.23</td>\n",
              "      <td>0.00</td>\n",
              "      <td>0.04</td>\n",
              "      <td>82.0</td>\n",
              "      <td>8.5</td>\n",
              "      <td>T</td>\n",
              "    </tr>\n",
              "    <tr>\n",
              "      <th>6273</th>\n",
              "      <td>Need for Speed: Most Wanted</td>\n",
              "      <td>WiiU</td>\n",
              "      <td>2013.0</td>\n",
              "      <td>Racing</td>\n",
              "      <td>0.13</td>\n",
              "      <td>0.12</td>\n",
              "      <td>0.00</td>\n",
              "      <td>0.02</td>\n",
              "      <td>NaN</td>\n",
              "      <td>NaN</td>\n",
              "      <td>unknown</td>\n",
              "    </tr>\n",
              "    <tr>\n",
              "      <th>6410</th>\n",
              "      <td>Need for Speed: Most Wanted</td>\n",
              "      <td>DS</td>\n",
              "      <td>2005.0</td>\n",
              "      <td>Racing</td>\n",
              "      <td>0.24</td>\n",
              "      <td>0.01</td>\n",
              "      <td>0.00</td>\n",
              "      <td>0.02</td>\n",
              "      <td>45.0</td>\n",
              "      <td>6.1</td>\n",
              "      <td>E</td>\n",
              "    </tr>\n",
              "    <tr>\n",
              "      <th>6473</th>\n",
              "      <td>Need for Speed: Most Wanted</td>\n",
              "      <td>GBA</td>\n",
              "      <td>2005.0</td>\n",
              "      <td>Racing</td>\n",
              "      <td>0.19</td>\n",
              "      <td>0.07</td>\n",
              "      <td>0.00</td>\n",
              "      <td>0.00</td>\n",
              "      <td>NaN</td>\n",
              "      <td>8.3</td>\n",
              "      <td>E</td>\n",
              "    </tr>\n",
              "    <tr>\n",
              "      <th>11715</th>\n",
              "      <td>Need for Speed: Most Wanted</td>\n",
              "      <td>PC</td>\n",
              "      <td>2012.0</td>\n",
              "      <td>Racing</td>\n",
              "      <td>0.00</td>\n",
              "      <td>0.06</td>\n",
              "      <td>0.00</td>\n",
              "      <td>0.02</td>\n",
              "      <td>82.0</td>\n",
              "      <td>8.5</td>\n",
              "      <td>T</td>\n",
              "    </tr>\n",
              "  </tbody>\n",
              "</table>\n",
              "</div>"
            ],
            "text/plain": [
              "                         game_name platform_name  ...  gamer_score esrb_rating\n",
              "253    Need for Speed: Most Wanted           PS2  ...          9.1           T\n",
              "523    Need for Speed: Most Wanted           PS3  ...          NaN     unknown\n",
              "1190   Need for Speed: Most Wanted          X360  ...          8.5           T\n",
              "1591   Need for Speed: Most Wanted          X360  ...          8.5           T\n",
              "1998   Need for Speed: Most Wanted            XB  ...          8.8           T\n",
              "2048   Need for Speed: Most Wanted           PSV  ...          NaN     unknown\n",
              "3581   Need for Speed: Most Wanted            GC  ...          9.1           T\n",
              "5972   Need for Speed: Most Wanted            PC  ...          8.5           T\n",
              "6273   Need for Speed: Most Wanted          WiiU  ...          NaN     unknown\n",
              "6410   Need for Speed: Most Wanted            DS  ...          6.1           E\n",
              "6473   Need for Speed: Most Wanted           GBA  ...          8.3           E\n",
              "11715  Need for Speed: Most Wanted            PC  ...          8.5           T\n",
              "\n",
              "[12 rows x 11 columns]"
            ]
          },
          "metadata": {
            "tags": []
          },
          "execution_count": 16
        }
      ]
    },
    {
      "cell_type": "markdown",
      "metadata": {
        "id": "nbxXu65CRbGQ"
      },
      "source": [
        "Дубликатов не обнаружено, игры с одинаковым названием различаются платформами, годами, продажами и оценками."
      ]
    },
    {
      "cell_type": "markdown",
      "metadata": {
        "id": "5FjaIM7Gc_36"
      },
      "source": [
        "## 3.5 Обобщение данных"
      ]
    },
    {
      "cell_type": "markdown",
      "metadata": {
        "id": "vT1nPynVWhDL"
      },
      "source": [
        "Для удобства дальнейшей аналитики в данные слудует добавить столбец сумарных продаж всех регионов с названием `total_sales`. \n",
        "\n",
        "Для удобства восприятия данных сполбец следyет разместить после всех видов продаж."
      ]
    },
    {
      "cell_type": "code",
      "metadata": {
        "id": "kcHqFHiUW2RY",
        "colab": {
          "base_uri": "https://localhost:8080/",
          "height": 204
        },
        "outputId": "7ee436be-690a-4ead-c86e-062328d3aa48"
      },
      "source": [
        "# <добавление в столбец 'total_sales' с значениями сумарных продаж >\n",
        "# для наглядности данных используется метод insert(), \n",
        "# чтобы вставить столбец после столбцов продаж \n",
        "if 'total_sales' not in df.columns:\n",
        "    df.insert(loc=8,  # позция вставки\n",
        "              column='total_sales',  # название новой колонки\n",
        "              value=df[['na_sales', 'eu_sales', 'jp_sales', 'other_sales']]\n",
        "              .sum(axis=1)  # сумма строк столбов с данными продаж\n",
        "              )    \n",
        "\n",
        "# <вывод на экран первые 5 строк результатов добавления столбца total_seles>\n",
        "df.head()"
      ],
      "execution_count": 17,
      "outputs": [
        {
          "output_type": "execute_result",
          "data": {
            "text/html": [
              "<div>\n",
              "<style scoped>\n",
              "    .dataframe tbody tr th:only-of-type {\n",
              "        vertical-align: middle;\n",
              "    }\n",
              "\n",
              "    .dataframe tbody tr th {\n",
              "        vertical-align: top;\n",
              "    }\n",
              "\n",
              "    .dataframe thead th {\n",
              "        text-align: right;\n",
              "    }\n",
              "</style>\n",
              "<table border=\"1\" class=\"dataframe\">\n",
              "  <thead>\n",
              "    <tr style=\"text-align: right;\">\n",
              "      <th></th>\n",
              "      <th>game_name</th>\n",
              "      <th>platform_name</th>\n",
              "      <th>year_of_release</th>\n",
              "      <th>genre_name</th>\n",
              "      <th>na_sales</th>\n",
              "      <th>eu_sales</th>\n",
              "      <th>jp_sales</th>\n",
              "      <th>other_sales</th>\n",
              "      <th>total_sales</th>\n",
              "      <th>critic_score</th>\n",
              "      <th>gamer_score</th>\n",
              "      <th>esrb_rating</th>\n",
              "    </tr>\n",
              "  </thead>\n",
              "  <tbody>\n",
              "    <tr>\n",
              "      <th>0</th>\n",
              "      <td>Wii Sports</td>\n",
              "      <td>Wii</td>\n",
              "      <td>2006.0</td>\n",
              "      <td>Sports</td>\n",
              "      <td>41.36</td>\n",
              "      <td>28.96</td>\n",
              "      <td>3.77</td>\n",
              "      <td>8.45</td>\n",
              "      <td>82.54</td>\n",
              "      <td>76.0</td>\n",
              "      <td>8.0</td>\n",
              "      <td>E</td>\n",
              "    </tr>\n",
              "    <tr>\n",
              "      <th>1</th>\n",
              "      <td>Super Mario Bros.</td>\n",
              "      <td>NES</td>\n",
              "      <td>1985.0</td>\n",
              "      <td>Platform</td>\n",
              "      <td>29.08</td>\n",
              "      <td>3.58</td>\n",
              "      <td>6.81</td>\n",
              "      <td>0.77</td>\n",
              "      <td>40.24</td>\n",
              "      <td>NaN</td>\n",
              "      <td>NaN</td>\n",
              "      <td>unknown</td>\n",
              "    </tr>\n",
              "    <tr>\n",
              "      <th>2</th>\n",
              "      <td>Mario Kart Wii</td>\n",
              "      <td>Wii</td>\n",
              "      <td>2008.0</td>\n",
              "      <td>Racing</td>\n",
              "      <td>15.68</td>\n",
              "      <td>12.76</td>\n",
              "      <td>3.79</td>\n",
              "      <td>3.29</td>\n",
              "      <td>35.52</td>\n",
              "      <td>82.0</td>\n",
              "      <td>8.3</td>\n",
              "      <td>E</td>\n",
              "    </tr>\n",
              "    <tr>\n",
              "      <th>3</th>\n",
              "      <td>Wii Sports Resort</td>\n",
              "      <td>Wii</td>\n",
              "      <td>2009.0</td>\n",
              "      <td>Sports</td>\n",
              "      <td>15.61</td>\n",
              "      <td>10.93</td>\n",
              "      <td>3.28</td>\n",
              "      <td>2.95</td>\n",
              "      <td>32.77</td>\n",
              "      <td>80.0</td>\n",
              "      <td>8.0</td>\n",
              "      <td>E</td>\n",
              "    </tr>\n",
              "    <tr>\n",
              "      <th>4</th>\n",
              "      <td>Pokemon Red/Pokemon Blue</td>\n",
              "      <td>GB</td>\n",
              "      <td>1996.0</td>\n",
              "      <td>Role-Playing</td>\n",
              "      <td>11.27</td>\n",
              "      <td>8.89</td>\n",
              "      <td>10.22</td>\n",
              "      <td>1.00</td>\n",
              "      <td>31.38</td>\n",
              "      <td>NaN</td>\n",
              "      <td>NaN</td>\n",
              "      <td>unknown</td>\n",
              "    </tr>\n",
              "  </tbody>\n",
              "</table>\n",
              "</div>"
            ],
            "text/plain": [
              "                  game_name platform_name  ...  gamer_score esrb_rating\n",
              "0                Wii Sports           Wii  ...          8.0           E\n",
              "1         Super Mario Bros.           NES  ...          NaN     unknown\n",
              "2            Mario Kart Wii           Wii  ...          8.3           E\n",
              "3         Wii Sports Resort           Wii  ...          8.0           E\n",
              "4  Pokemon Red/Pokemon Blue            GB  ...          NaN     unknown\n",
              "\n",
              "[5 rows x 12 columns]"
            ]
          },
          "metadata": {
            "tags": []
          },
          "execution_count": 17
        }
      ]
    },
    {
      "cell_type": "markdown",
      "metadata": {
        "id": "EaZYLjTcRpbh"
      },
      "source": [
        "Далее получаем общую информацию о данных, чтобы убедиться, что предварительная обработка данных выполнена успешно."
      ]
    },
    {
      "cell_type": "code",
      "metadata": {
        "colab": {
          "base_uri": "https://localhost:8080/"
        },
        "id": "Lv2ZpXvdR5PZ",
        "outputId": "20af0756-7b5d-414e-9341-616e014fb080"
      },
      "source": [
        "# получение общей информации о базе данных\n",
        "df.info()"
      ],
      "execution_count": 18,
      "outputs": [
        {
          "output_type": "stream",
          "text": [
            "<class 'pandas.core.frame.DataFrame'>\n",
            "Int64Index: 16713 entries, 0 to 16714\n",
            "Data columns (total 12 columns):\n",
            " #   Column           Non-Null Count  Dtype  \n",
            "---  ------           --------------  -----  \n",
            " 0   game_name        16713 non-null  object \n",
            " 1   platform_name    16713 non-null  object \n",
            " 2   year_of_release  16444 non-null  float64\n",
            " 3   genre_name       16713 non-null  object \n",
            " 4   na_sales         16713 non-null  float64\n",
            " 5   eu_sales         16713 non-null  float64\n",
            " 6   jp_sales         16713 non-null  float64\n",
            " 7   other_sales      16713 non-null  float64\n",
            " 8   total_sales      16713 non-null  float64\n",
            " 9   critic_score     8137 non-null   float64\n",
            " 10  gamer_score      7590 non-null   float64\n",
            " 11  esrb_rating      16713 non-null  object \n",
            "dtypes: float64(8), object(4)\n",
            "memory usage: 1.7+ MB\n"
          ],
          "name": "stdout"
        }
      ]
    },
    {
      "cell_type": "markdown",
      "metadata": {
        "id": "1vqNnMZaSBM5"
      },
      "source": [
        "## **Выводы**"
      ]
    },
    {
      "cell_type": "markdown",
      "metadata": {
        "id": "fHZdf1EZSFy1"
      },
      "source": [
        "На этапе предварительной обработки данных обнаружились следующие проблемы:\n",
        "* Не все названия столбцов имели понятные и однозначные обозначения, часть значений были переименованы и приведены к единому низкому регистру;\n",
        "* Данные столбца `'gamer_score'` имели формат строковых данных, данный столбец предназначен для числовых данных, тип данных удалось успешно изменить;\n",
        "* Для обработки пропущенных данных в столбцах `game_name`, `genre_name` `year_of_release`, были пременены разные подходы:\n",
        "  * пропуски в годах и оценках составляют половину всего набора данных, поэтому пропуски следует обработать непосредственно для исследований где пропуски недопустимы, для всех остальных исследований лучше использовать весь набор данных.\n",
        "  * Пропуски в рейтинге `esrb_rating` тоже носили значимый характер, поэтому для сохранения была введена новая категория рейтингов \"неизвестстно\" (`unknow`)."
      ]
    },
    {
      "cell_type": "markdown",
      "metadata": {
        "id": "ZUfMHX_vakYY"
      },
      "source": [
        "<a name=\"4\"></a>\n",
        "# Этап 4. Исследовательский анализ данных"
      ]
    },
    {
      "cell_type": "markdown",
      "metadata": {
        "id": "HE7uLbo_XOSy"
      },
      "source": [
        "## 4.1 Анализ значимости выпуска игры в разные годы"
      ]
    },
    {
      "cell_type": "markdown",
      "metadata": {
        "id": "eR8OPPifIUSX"
      },
      "source": [
        "Узнаем сколько игр выпускалось в разные годы. И данные за какие годы наиболее важны."
      ]
    },
    {
      "cell_type": "code",
      "metadata": {
        "scrolled": true,
        "id": "shjg4L3bPqHe",
        "colab": {
          "base_uri": "https://localhost:8080/",
          "height": 541
        },
        "outputId": "882716a5-d22f-4466-c0c8-2318d2354bba"
      },
      "source": [
        "(\n",
        "    df['year_of_release']\n",
        "    .value_counts()\n",
        "    .sort_index()\n",
        "    .plot(kind='bar', figsize=(12, 8), title='Выпуск игр по годам')\n",
        ")   "
      ],
      "execution_count": 19,
      "outputs": [
        {
          "output_type": "execute_result",
          "data": {
            "text/plain": [
              "<matplotlib.axes._subplots.AxesSubplot at 0x7f86da7b0250>"
            ]
          },
          "metadata": {
            "tags": []
          },
          "execution_count": 19
        },
        {
          "output_type": "display_data",
          "data": {
            "image/png": "[encoded data removed]",
            "text/plain": [
              "<Figure size 864x576 with 1 Axes>"
            ]
          },
          "metadata": {
            "tags": [],
            "needs_background": "light"
          }
        }
      ]
    },
    {
      "cell_type": "markdown",
      "metadata": {
        "id": "J__PlcRGPqHf"
      },
      "source": [
        "После 2008 года заметно сокращение количества выпускаемых игр, следует выяснить причину, возможные предположения:\n",
        "* выпуск игр переходит на другие платформы, которые отсутствуют в данных;\n",
        "* увеличиваются общие сборы на игру."
      ]
    },
    {
      "cell_type": "code",
      "metadata": {
        "id": "R43QWZe6PqHf",
        "colab": {
          "base_uri": "https://localhost:8080/",
          "height": 338
        },
        "outputId": "47dd8b00-2c44-4846-8d89-a2edca4be45a"
      },
      "source": [
        "(\n",
        "    df\n",
        "    .query('year_of_release >= 2007')  # запрос данных с 2007 года\n",
        "    .groupby('year_of_release')['total_sales']  # сортировка данных\n",
        "    .sum()  # суммирование продаж\n",
        "    .plot(kind='bar', title='Сумма продаж игр по годам')\n",
        ")"
      ],
      "execution_count": 20,
      "outputs": [
        {
          "output_type": "execute_result",
          "data": {
            "text/plain": [
              "<matplotlib.axes._subplots.AxesSubplot at 0x7f86da735950>"
            ]
          },
          "metadata": {
            "tags": []
          },
          "execution_count": 20
        },
        {
          "output_type": "display_data",
          "data": {
            "image/png": "[encoded data removed]",
            "text/plain": [
              "<Figure size 432x288 with 1 Axes>"
            ]
          },
          "metadata": {
            "tags": [],
            "needs_background": "light"
          }
        }
      ]
    },
    {
      "cell_type": "markdown",
      "metadata": {
        "id": "0SMTHv3LPqHf"
      },
      "source": [
        "С падением количества игр, сокращается объём сборов, что может означать перетекание платёжеспособного спроса на другие платформы."
      ]
    },
    {
      "cell_type": "markdown",
      "metadata": {
        "id": "1KZ3YzVKYlQp"
      },
      "source": [
        "**Выводы**\n",
        "\n",
        "* Выпуск игр рос 1980 до 2008 года, потом выпуск игр стал сокращаться.\n",
        "\n",
        "* Количество игр быстро увеличивалось с 9 до 1427 к 2008 году, потом выпуск игр плавно снижался до 502.\n",
        "\n",
        "* До 1994 количество игры измерялось десятками, потом сотнями до 2006, потом тысячами, а с 2012 вновь сотнями.\n",
        "\n",
        "* После 2008 года, происходило и падение выпуска игр и падение продаж, однако согласно данным [Newzoo](https://venturebeat.com/2018/04/30/newzoo-global-games-expected-to-hit-180-1-billion-in-revenues-2021/) игровой рынок постоянно растёт, а значит продажи перетягивает более популярная мобильная платформа;\n",
        "\n",
        "* **Сопостовимые удобные для анализа данные находятся с 2000 по 2016 года.**"
      ]
    },
    {
      "cell_type": "markdown",
      "metadata": {
        "id": "ZqFvRHtQaDno"
      },
      "source": [
        "## 4.2 Изменения продаж по платформам"
      ]
    },
    {
      "cell_type": "markdown",
      "metadata": {
        "id": "Yg9NJz4yFhx2"
      },
      "source": [
        "### 4.2.1 Изменения продаж по платформам по годам"
      ]
    },
    {
      "cell_type": "markdown",
      "metadata": {
        "id": "raX3gAB52vYi"
      },
      "source": [
        "Для получению общей картины построим график изменения продаж у платформ по годам."
      ]
    },
    {
      "cell_type": "code",
      "metadata": {
        "colab": {
          "base_uri": "https://localhost:8080/",
          "height": 748
        },
        "id": "K_Fps0Vuodw8",
        "outputId": "af706d31-e21f-4bb2-ed5f-fb70e682bed8"
      },
      "source": [
        "# вывод графика изменения продаж по платформам\n",
        "(\n",
        "    df  # база данных\n",
        "    .pivot_table(index='year_of_release',  # года размещаются по горизонтальной оси\n",
        "                 columns='platform_name',  # по именам платформ будут строятся линии\n",
        "                 values='total_sales',  # значения продаж по вертикальной оси\n",
        "                 aggfunc='sum')  # значения по продажам платформ суммируются\n",
        "    .plot(title='Изменение продаж по платформам',\n",
        "          figsize=(12, 12), grid=True)  # отображаение графика с сеткой и заданым размером\n",
        ")  "
      ],
      "execution_count": 21,
      "outputs": [
        {
          "output_type": "execute_result",
          "data": {
            "text/plain": [
              "<matplotlib.axes._subplots.AxesSubplot at 0x7f86da654d90>"
            ]
          },
          "metadata": {
            "tags": []
          },
          "execution_count": 21
        },
        {
          "output_type": "display_data",
          "data": {
            "image/png": "[encoded data removed]",
            "text/plain": [
              "<Figure size 864x864 with 1 Axes>"
            ]
          },
          "metadata": {
            "tags": [],
            "needs_background": "light"
          }
        }
      ]
    },
    {
      "cell_type": "markdown",
      "metadata": {
        "id": "Uk0cLzjhqPLc"
      },
      "source": [
        "**Выводы**\n",
        "\n",
        "Большинство платформ быстро набирают продажи, потом опускаются к нулевым продажам и прекращают своё существование.\n",
        "\n",
        "По графикам видно:\n",
        "* есть платформы с коротким сроком жизни около 5 лет;\n",
        "* есть множество платформ со сроком жизни около 10 лет;\n",
        "* есть долгоживущие платформы более 10 лет, например, персональный компьютер."
      ]
    },
    {
      "cell_type": "markdown",
      "metadata": {
        "id": "mefAqkGoF62K"
      },
      "source": [
        "### 4.2.2 Платформы с наибольшими суммарными продажами"
      ]
    },
    {
      "cell_type": "markdown",
      "metadata": {
        "id": "W_3576lS6Kvt"
      },
      "source": [
        "Узнаем распределение продаж по площадкам."
      ]
    },
    {
      "cell_type": "code",
      "metadata": {
        "colab": {
          "base_uri": "https://localhost:8080/",
          "height": 438
        },
        "id": "FR2U0zKYaNOu",
        "outputId": "e733c0c9-5a8a-40bf-fc4b-a81bec0bcd34"
      },
      "source": [
        "# вывод суммы продаж по площадкам в порядке убывания\n",
        "(\n",
        "    df  # база данных\n",
        "    # групировка по имени платформ и выбор столбцов с платформами и продажами\n",
        "    .groupby('platform_name')[['platform_name', 'total_sales']]  \n",
        "    .sum()  # суммирование продаж\n",
        "    .sort_values('total_sales', ascending=False)  # сортировка по убыванию\n",
        "    .plot(kind='bar', figsize=(10, 6), title='Суммарные продажи по площадкам')\n",
        ")"
      ],
      "execution_count": 22,
      "outputs": [
        {
          "output_type": "execute_result",
          "data": {
            "text/plain": [
              "<matplotlib.axes._subplots.AxesSubplot at 0x7f86da499e90>"
            ]
          },
          "metadata": {
            "tags": []
          },
          "execution_count": 22
        },
        {
          "output_type": "display_data",
          "data": {
            "image/png": "[encoded data removed]",
            "text/plain": [
              "<Figure size 720x432 with 1 Axes>"
            ]
          },
          "metadata": {
            "tags": [],
            "needs_background": "light"
          }
        }
      ]
    },
    {
      "cell_type": "markdown",
      "metadata": {
        "id": "crWCExYaVmh_"
      },
      "source": [
        "**Вывод**\n",
        "\n",
        "Различия платформ по суммарным продажам:\n",
        "* Безусловный лидер с заметным отрывом по продажам является платформа `PS2`;\n",
        "* 5 площадок `X360`, `PS3`, `Wii`, `DS`, `PS` имеют существенный отрыв от остальных площадок;\n",
        "* Продажи по остальным площадкам плавно снижаются."
      ]
    },
    {
      "cell_type": "markdown",
      "metadata": {
        "id": "8kieDrp6c9Uv"
      },
      "source": [
        "### 4.2.3 Время жизни платформ"
      ]
    },
    {
      "cell_type": "markdown",
      "metadata": {
        "id": "A91zWH5YK20T"
      },
      "source": [
        "Данные для анализа можно взять на основе среднего времени жизни платформы.\n",
        "\n",
        "Получим время жизни всех плаформ."
      ]
    },
    {
      "cell_type": "code",
      "metadata": {
        "colab": {
          "base_uri": "https://localhost:8080/",
          "height": 438
        },
        "id": "5a9cfRmGCT6L",
        "scrolled": true,
        "outputId": "45a1086e-c4d2-4ea4-b2cb-9764800fddfd"
      },
      "source": [
        "# определение жизни платформ в порядке убывания\n",
        "platform_livetime = (\n",
        "    df  # база даных\n",
        "    # групировка по платформам и годам выпуска с выделеним данных о продажах\n",
        "    .groupby(['platform_name', 'year_of_release'])['total_sales']\n",
        "    .sum()   # суммирование продаж для уплотнения данных по годам\n",
        "    .unstack(-1)  # выделение для годов выпуска отдельных столбцов\n",
        "    .notna()  # выделение годов в которых были продажи\n",
        "    .sum(axis=1)  # сумирование по строкам платформ годов где были прожади\n",
        "    .sort_values(ascending=False)  # сортировка по убыванию\n",
        ")\n",
        "\n",
        "platform_livetime.plot(kind='bar', figsize=(12, 6), title='Время жизни платформ')"
      ],
      "execution_count": 23,
      "outputs": [
        {
          "output_type": "execute_result",
          "data": {
            "text/plain": [
              "<matplotlib.axes._subplots.AxesSubplot at 0x7f86d8c0da50>"
            ]
          },
          "metadata": {
            "tags": []
          },
          "execution_count": 23
        },
        {
          "output_type": "display_data",
          "data": {
            "image/png": "[encoded data removed]",
            "text/plain": [
              "<Figure size 864x432 with 1 Axes>"
            ]
          },
          "metadata": {
            "tags": [],
            "needs_background": "light"
          }
        }
      ]
    },
    {
      "cell_type": "markdown",
      "metadata": {
        "id": "Ity6MG6DehY5"
      },
      "source": [
        "Персональные компьютеры живее всех живых и пока не собираются уходить на покой, а вот популярные платформы живут около 10 лет."
      ]
    },
    {
      "cell_type": "markdown",
      "metadata": {
        "id": "NmEPDLNz2Xc2"
      },
      "source": [
        "Узнаем время среденее время жизни платформ, исключая ныне действующие платформы."
      ]
    },
    {
      "cell_type": "code",
      "metadata": {
        "id": "w8rnn2PvPqHp",
        "colab": {
          "base_uri": "https://localhost:8080/"
        },
        "outputId": "9b23404a-5d2d-4c75-c42d-c1b4cff20615"
      },
      "source": [
        "# определение среднего времени жизни платформ \n",
        "platform_alive_names = (\n",
        "        df\n",
        "        .query('year_of_release == 2016 and total_sales > 0') # отбор активных платформ\n",
        "        .groupby('platform_name')\n",
        "        .count()\n",
        "        .index  # получение имён\n",
        ")\n",
        "\n",
        "# получение среднего, кроме живых платформ через метод isin\n",
        "platform_livetime_mean = (\n",
        "        platform_livetime\n",
        "        .loc[~platform_livetime.index.isin(platform_alive_names)]\n",
        "        .mean()        \n",
        ")\n",
        "\n",
        "print('Среднее время жизни платформ:', \n",
        "      '{:.2f}'.format(platform_livetime_mean))"
      ],
      "execution_count": 24,
      "outputs": [
        {
          "output_type": "stream",
          "text": [
            "Среднее время жизни платформ: 6.95\n"
          ],
          "name": "stdout"
        }
      ]
    },
    {
      "cell_type": "markdown",
      "metadata": {
        "id": "_oILYZ2KdfN6"
      },
      "source": [
        "**Выводы**\n",
        "\n",
        "Среднее время жизни платформ составляет 6.95 лет. \n",
        "\n",
        "В целом имеются неудачные платформы со сроком жизни 1-3 года, а вот популярные платформы живут дольше среднего - около 10 лет."
      ]
    },
    {
      "cell_type": "markdown",
      "metadata": {
        "id": "o9ySdELdM92Y"
      },
      "source": [
        "## 4.3 Выбор периода анализа для данных"
      ]
    },
    {
      "cell_type": "markdown",
      "metadata": {
        "id": "mOa5-A0g3ZHS"
      },
      "source": [
        "Изучим подрбно как распределены значения по годам, чтобы гистраграмма была более детальной выберем количество стобцов гистограмы, равное 36 - количеству годов наблюдения с 1980 по 2016.\n"
      ]
    },
    {
      "cell_type": "code",
      "metadata": {
        "colab": {
          "base_uri": "https://localhost:8080/",
          "height": 298
        },
        "id": "SwALZ7U4Jw-O",
        "outputId": "f7a4bd12-e86d-4bf5-bdd3-088ec59ee2d2"
      },
      "source": [
        "# распределение по годам для всех значений\n",
        "(\n",
        "    df['year_of_release']\n",
        "    .hist(bins=36)\n",
        "    .set_title('Распеределение выпуска игр по годам')\n",
        ")    "
      ],
      "execution_count": 25,
      "outputs": [
        {
          "output_type": "execute_result",
          "data": {
            "text/plain": [
              "Text(0.5, 1.0, 'Распеределение выпуска игр по годам')"
            ]
          },
          "metadata": {
            "tags": []
          },
          "execution_count": 25
        },
        {
          "output_type": "display_data",
          "data": {
            "image/png": "[encoded data removed]",
            "text/plain": [
              "<Figure size 432x288 with 1 Axes>"
            ]
          },
          "metadata": {
            "tags": [],
            "needs_background": "light"
          }
        }
      ]
    },
    {
      "cell_type": "markdown",
      "metadata": {
        "id": "1U_on5IGPqHl"
      },
      "source": [
        "Ранее уже рассматривались данные продаж по годам, на которых не было всплеска в 2016 году. \n",
        "\n",
        "На гистограммах возможны вслески данных в зависимости от масштаба, поэтому следует внимательно следить за масштабом гистограмм."
      ]
    },
    {
      "cell_type": "markdown",
      "metadata": {
        "id": "Sscf3fihlmoU"
      },
      "source": [
        "Для выбора периода данных для анализа следует учитывать следующие факторы:\n",
        "* среднее время жизни платформы с составляет 7 лет;\n",
        "* для прогноза будущего наиболее актуальны данные за последние годы;\n",
        "* наличие разных стадий развития рынка (рост до 2008, пик 2008-2009 и спад 2010-2016).\n",
        "\n",
        "В результате следует брать данные за за 2010-2016 годы, которые наиболее актуальны, относятся к последней тенденции и укладываются в средний срок жизни платформы."
      ]
    },
    {
      "cell_type": "code",
      "metadata": {
        "id": "SsbdXoU-PqHm",
        "colab": {
          "base_uri": "https://localhost:8080/",
          "height": 298
        },
        "outputId": "96fa9750-3c92-4877-8efa-12ee31073202"
      },
      "source": [
        "(\n",
        "    df\n",
        "    .query('year_of_release >= 2010')['year_of_release']\n",
        "    .hist(bins=7)\n",
        "    .set_title('Распределение выпуска игр по годам для анализа')\n",
        ")    "
      ],
      "execution_count": 26,
      "outputs": [
        {
          "output_type": "execute_result",
          "data": {
            "text/plain": [
              "Text(0.5, 1.0, 'Распределение выпуска игр по годам для анализа')"
            ]
          },
          "metadata": {
            "tags": []
          },
          "execution_count": 26
        },
        {
          "output_type": "display_data",
          "data": {
            "image/png": "[encoded data removed]",
            "text/plain": [
              "<Figure size 432x288 with 1 Axes>"
            ]
          },
          "metadata": {
            "tags": [],
            "needs_background": "light"
          }
        }
      ]
    },
    {
      "cell_type": "markdown",
      "metadata": {
        "id": "f7uFFmgCPqHn"
      },
      "source": [
        "При выборе правильного масштаба всплеск в 2016 году на графике исчез"
      ]
    },
    {
      "cell_type": "markdown",
      "metadata": {
        "id": "rMtl4ietND8S"
      },
      "source": [
        "## 4.4 Определение рабочего набора данных"
      ]
    },
    {
      "cell_type": "markdown",
      "metadata": {
        "id": "6moPvzT37lpe"
      },
      "source": [
        "Создадим рабочий набор данных с названием `work_data` за выбранные c 2010 по 2016 года и выведем структуру данных."
      ]
    },
    {
      "cell_type": "code",
      "metadata": {
        "id": "Fu2C-d1qxPZU",
        "colab": {
          "base_uri": "https://localhost:8080/",
          "height": 204
        },
        "outputId": "082d9db1-0e54-4e66-9e47-7862a42fac03"
      },
      "source": [
        "# определение диапазона рабочих данных\n",
        "work_data_start_year = 2010\n",
        "work_data_end_year = 2016\n",
        "\n",
        "# определение названия рабочих данных \n",
        "work_data = (\n",
        "    df\n",
        "    .query('@work_data_start_year <= year_of_release <= @work_data_end_year')\n",
        "    .reset_index(drop=True)  # сброс идекса для новых данных\n",
        ")\n",
        "\n",
        "work_data.head()"
      ],
      "execution_count": 27,
      "outputs": [
        {
          "output_type": "execute_result",
          "data": {
            "text/html": [
              "<div>\n",
              "<style scoped>\n",
              "    .dataframe tbody tr th:only-of-type {\n",
              "        vertical-align: middle;\n",
              "    }\n",
              "\n",
              "    .dataframe tbody tr th {\n",
              "        vertical-align: top;\n",
              "    }\n",
              "\n",
              "    .dataframe thead th {\n",
              "        text-align: right;\n",
              "    }\n",
              "</style>\n",
              "<table border=\"1\" class=\"dataframe\">\n",
              "  <thead>\n",
              "    <tr style=\"text-align: right;\">\n",
              "      <th></th>\n",
              "      <th>game_name</th>\n",
              "      <th>platform_name</th>\n",
              "      <th>year_of_release</th>\n",
              "      <th>genre_name</th>\n",
              "      <th>na_sales</th>\n",
              "      <th>eu_sales</th>\n",
              "      <th>jp_sales</th>\n",
              "      <th>other_sales</th>\n",
              "      <th>total_sales</th>\n",
              "      <th>critic_score</th>\n",
              "      <th>gamer_score</th>\n",
              "      <th>esrb_rating</th>\n",
              "    </tr>\n",
              "  </thead>\n",
              "  <tbody>\n",
              "    <tr>\n",
              "      <th>0</th>\n",
              "      <td>Kinect Adventures!</td>\n",
              "      <td>X360</td>\n",
              "      <td>2010.0</td>\n",
              "      <td>Misc</td>\n",
              "      <td>15.00</td>\n",
              "      <td>4.89</td>\n",
              "      <td>0.24</td>\n",
              "      <td>1.69</td>\n",
              "      <td>21.82</td>\n",
              "      <td>61.0</td>\n",
              "      <td>6.3</td>\n",
              "      <td>E</td>\n",
              "    </tr>\n",
              "    <tr>\n",
              "      <th>1</th>\n",
              "      <td>Grand Theft Auto V</td>\n",
              "      <td>PS3</td>\n",
              "      <td>2013.0</td>\n",
              "      <td>Action</td>\n",
              "      <td>7.02</td>\n",
              "      <td>9.09</td>\n",
              "      <td>0.98</td>\n",
              "      <td>3.96</td>\n",
              "      <td>21.05</td>\n",
              "      <td>97.0</td>\n",
              "      <td>8.2</td>\n",
              "      <td>M</td>\n",
              "    </tr>\n",
              "    <tr>\n",
              "      <th>2</th>\n",
              "      <td>Grand Theft Auto V</td>\n",
              "      <td>X360</td>\n",
              "      <td>2013.0</td>\n",
              "      <td>Action</td>\n",
              "      <td>9.66</td>\n",
              "      <td>5.14</td>\n",
              "      <td>0.06</td>\n",
              "      <td>1.41</td>\n",
              "      <td>16.27</td>\n",
              "      <td>97.0</td>\n",
              "      <td>8.1</td>\n",
              "      <td>M</td>\n",
              "    </tr>\n",
              "    <tr>\n",
              "      <th>3</th>\n",
              "      <td>Pokemon Black/Pokemon White</td>\n",
              "      <td>DS</td>\n",
              "      <td>2010.0</td>\n",
              "      <td>Role-Playing</td>\n",
              "      <td>5.51</td>\n",
              "      <td>3.17</td>\n",
              "      <td>5.65</td>\n",
              "      <td>0.80</td>\n",
              "      <td>15.13</td>\n",
              "      <td>NaN</td>\n",
              "      <td>NaN</td>\n",
              "      <td>unknown</td>\n",
              "    </tr>\n",
              "    <tr>\n",
              "      <th>4</th>\n",
              "      <td>Call of Duty: Modern Warfare 3</td>\n",
              "      <td>X360</td>\n",
              "      <td>2011.0</td>\n",
              "      <td>Shooter</td>\n",
              "      <td>9.04</td>\n",
              "      <td>4.24</td>\n",
              "      <td>0.13</td>\n",
              "      <td>1.32</td>\n",
              "      <td>14.73</td>\n",
              "      <td>88.0</td>\n",
              "      <td>3.4</td>\n",
              "      <td>M</td>\n",
              "    </tr>\n",
              "  </tbody>\n",
              "</table>\n",
              "</div>"
            ],
            "text/plain": [
              "                        game_name platform_name  ...  gamer_score esrb_rating\n",
              "0              Kinect Adventures!          X360  ...          6.3           E\n",
              "1              Grand Theft Auto V           PS3  ...          8.2           M\n",
              "2              Grand Theft Auto V          X360  ...          8.1           M\n",
              "3     Pokemon Black/Pokemon White            DS  ...          NaN     unknown\n",
              "4  Call of Duty: Modern Warfare 3          X360  ...          3.4           M\n",
              "\n",
              "[5 rows x 12 columns]"
            ]
          },
          "metadata": {
            "tags": []
          },
          "execution_count": 27
        }
      ]
    },
    {
      "cell_type": "markdown",
      "metadata": {
        "id": "l41QidWqNQNR"
      },
      "source": [
        "## 4.5 Выбор потенциально прибыльных платформ"
      ]
    },
    {
      "cell_type": "markdown",
      "metadata": {
        "id": "SFgwaRhhEQwi"
      },
      "source": [
        "Построим график, для наглядоного представления динамики изменения продаж у различных платформ за выбранный период данных."
      ]
    },
    {
      "cell_type": "code",
      "metadata": {
        "id": "HtguG99CQ3-y",
        "colab": {
          "base_uri": "https://localhost:8080/",
          "height": 748
        },
        "cellView": "form",
        "outputId": "3fb66304-2e92-4033-bed5-1e9e7b9e13f7"
      },
      "source": [
        "# создание сводной таблице по годам и сумарным продажам\n",
        "# отрисовка графика по сводной таблице\n",
        "(\n",
        "    work_data\n",
        "    .pivot_table(index='year_of_release',\n",
        "                 columns='platform_name',\n",
        "                 values='total_sales',\n",
        "                 aggfunc='sum') \n",
        "    .plot(title='Изменение продаж по платформам',\n",
        "          figsize=(10, 12), grid=True)\n",
        ")    "
      ],
      "execution_count": 28,
      "outputs": [
        {
          "output_type": "execute_result",
          "data": {
            "text/plain": [
              "<matplotlib.axes._subplots.AxesSubplot at 0x7f86d890ea10>"
            ]
          },
          "metadata": {
            "tags": []
          },
          "execution_count": 28
        },
        {
          "output_type": "display_data",
          "data": {
            "image/png": "[encoded data removed]",
            "text/plain": [
              "<Figure size 720x864 with 1 Axes>"
            ]
          },
          "metadata": {
            "tags": [],
            "needs_background": "light"
          }
        }
      ]
    },
    {
      "cell_type": "markdown",
      "metadata": {
        "id": "Lzg0evklRLjK"
      },
      "source": [
        "На данный момент отсутствует явно растущие площадки, на части площадках продажи уже прекратились, однако остаются площадки, которые приносят прибыль. \n",
        "\n",
        "Сохраним результаты в `top_profit_platforms`."
      ]
    },
    {
      "cell_type": "code",
      "metadata": {
        "id": "itMji05rNvBJ",
        "colab": {
          "base_uri": "https://localhost:8080/",
          "height": 330
        },
        "cellView": "form",
        "outputId": "177c7ba2-1b68-46ad-d566-63a94eae74b1"
      },
      "source": [
        "# выявление прибыльных площадок на 2016 год - последний год наблюдений\n",
        "top_profit_platforms = (\n",
        "    work_data\n",
        "    .query('year_of_release == 2016 and total_sales > 0')\n",
        "    .groupby('platform_name')['total_sales']\n",
        "    .sum()\n",
        "    .sort_values(ascending=False)\n",
        " )\n",
        "\n",
        "top_profit_platforms.plot(kind='bar', title='Продажи по платформам за 2016 год')"
      ],
      "execution_count": 29,
      "outputs": [
        {
          "output_type": "execute_result",
          "data": {
            "text/plain": [
              "<matplotlib.axes._subplots.AxesSubplot at 0x7f86d8b7d390>"
            ]
          },
          "metadata": {
            "tags": []
          },
          "execution_count": 29
        },
        {
          "output_type": "display_data",
          "data": {
            "image/png": "[encoded data removed]",
            "text/plain": [
              "<Figure size 432x288 with 1 Axes>"
            ]
          },
          "metadata": {
            "tags": [],
            "needs_background": "light"
          }
        }
      ]
    },
    {
      "cell_type": "markdown",
      "metadata": {
        "id": "Q6e1ourKUhFb"
      },
      "source": [
        "Разница по прибыльности между первой платформой \"PS4\" и четвётрой платформы \"PC\" более 10 раз, поэтому для сопостовимости для анализа следует использовать первые три платформы: \"PS4\", \"XOne\" и \"3DS\""
      ]
    },
    {
      "cell_type": "markdown",
      "metadata": {
        "id": "dkkhiwxhSkZV"
      },
      "source": [
        "**Вывод**\n",
        "\n",
        "Наиболее прибыльные площадки - \"PS4\", \"XOne\" и \"3DS\", которые и следует использовать для анализа."
      ]
    },
    {
      "cell_type": "markdown",
      "metadata": {
        "id": "53C4KfiZS0ZQ"
      },
      "source": [
        "## 4.6 Постоение диаграммы размаха"
      ]
    },
    {
      "cell_type": "code",
      "metadata": {
        "id": "jaQUOkXITEE0",
        "scrolled": true,
        "colab": {
          "base_uri": "https://localhost:8080/",
          "height": 514
        },
        "outputId": "f6457fcd-143c-4a2d-f340-b454592ae3d8"
      },
      "source": [
        "ax = sns.boxplot(x='total_sales', y='platform_name', \n",
        "            data=work_data,\n",
        "            showfliers=False\n",
        "           )\n",
        "\n",
        "ax.set_title('Диаграма размаха продаж по платформам')\n",
        "ax.figure.set_size_inches(11, 8)"
      ],
      "execution_count": 30,
      "outputs": [
        {
          "output_type": "display_data",
          "data": {
            "image/png": "[encoded data removed]",
            "text/plain": [
              "<Figure size 792x576 with 1 Axes>"
            ]
          },
          "metadata": {
            "tags": [],
            "needs_background": "light"
          }
        }
      ]
    },
    {
      "cell_type": "markdown",
      "metadata": {
        "id": "rbSQqRGRlQbm"
      },
      "source": [
        "**Выводы**\n",
        "\n",
        "* Левые \"усы\" которкие, правые \"усы\" длинные, что означает:\n",
        "    * игровая индустрия как конвеер постоянно создаёт игры;\n",
        "    * большинство создаваемых игр имеет назначительные объемы продаж;\n",
        "    * редкие игры срывают огромные продажи;\n",
        "    * Есть платформы которые специализируются на недорогих играх.\n",
        "* Средние по продажам находятся примерно в одном диапазоне, что означает:\n",
        "    * массово создавать средние игры со средними продажами умеет большинство платформ;\n",
        "    * создавать хиты с продажами в десятки и сотни раз выше средних продаж умеют единицы;\n",
        "    * успешность платформы определяется умением генерировать хиты."
      ]
    },
    {
      "cell_type": "markdown",
      "metadata": {
        "id": "ZtJB0ncCVViv"
      },
      "source": [
        "## 4.7 Влияние отзвов на продажи"
      ]
    },
    {
      "cell_type": "markdown",
      "metadata": {
        "id": "LvpG7MnH1ynE"
      },
      "source": [
        "Определим как влияют оценки игроков и критиков на продажи в самой популярной платформе."
      ]
    },
    {
      "cell_type": "code",
      "metadata": {
        "id": "9x_p0cFDw0EY",
        "colab": {
          "base_uri": "https://localhost:8080/"
        },
        "cellView": "form",
        "outputId": "16d24f02-8232-4ae5-ef05-5cd27c93ce21"
      },
      "source": [
        "# определим позицию платформы для аналица\n",
        "# и выведем имя платформы по её индексу\n",
        "top_profit_platform_position = 1  \n",
        "top_profit_platform_name = top_profit_platforms.index[top_profit_platform_position - 1]\n",
        "print('Платформа для анализа', top_profit_platform_name)"
      ],
      "execution_count": 31,
      "outputs": [
        {
          "output_type": "stream",
          "text": [
            "Платформа для анализа PS4\n"
          ],
          "name": "stdout"
        }
      ]
    },
    {
      "cell_type": "markdown",
      "metadata": {
        "id": "8CsyxVpflWpZ"
      },
      "source": [
        "Для наглядности анализа построим диаграммы рассеяния.\n",
        "\n",
        "При построении графика воспользуймся ранее найденным оптимальным органичением выбросов данных."
      ]
    },
    {
      "cell_type": "code",
      "metadata": {
        "id": "Sn6RlNf_jPRh",
        "colab": {
          "base_uri": "https://localhost:8080/",
          "height": 458
        },
        "cellView": "form",
        "outputId": "0e0db445-7332-4e21-cdbb-3f843752cf3d"
      },
      "source": [
        "query = 'platform_name == @top_profit_platform_name' \n",
        "graph_data = work_data.query(query)\n",
        "sns.jointplot(x='total_sales', y='critic_score', data=graph_data, kind='reg')"
      ],
      "execution_count": 32,
      "outputs": [
        {
          "output_type": "execute_result",
          "data": {
            "text/plain": [
              "<seaborn.axisgrid.JointGrid at 0x7f86d8bf2d10>"
            ]
          },
          "metadata": {
            "tags": []
          },
          "execution_count": 32
        },
        {
          "output_type": "display_data",
          "data": {
            "image/png": "[encoded data removed]",
            "text/plain": [
              "<Figure size 432x432 with 3 Axes>"
            ]
          },
          "metadata": {
            "tags": [],
            "needs_background": "light"
          }
        }
      ]
    },
    {
      "cell_type": "code",
      "metadata": {
        "id": "OuJ0GWf3jcMz",
        "colab": {
          "base_uri": "https://localhost:8080/",
          "height": 458
        },
        "outputId": "49d8ea50-027f-427e-ea17-188d66215623"
      },
      "source": [
        "query = 'platform_name == @top_profit_platform_name'\n",
        "graph_data = work_data.query(query)\n",
        "sns.jointplot(x='total_sales', y='gamer_score', data=graph_data, kind='reg')"
      ],
      "execution_count": 33,
      "outputs": [
        {
          "output_type": "execute_result",
          "data": {
            "text/plain": [
              "<seaborn.axisgrid.JointGrid at 0x7f86d880d510>"
            ]
          },
          "metadata": {
            "tags": []
          },
          "execution_count": 33
        },
        {
          "output_type": "display_data",
          "data": {
            "image/png": "[encoded data removed]",
            "text/plain": [
              "<Figure size 432x432 with 3 Axes>"
            ]
          },
          "metadata": {
            "tags": [],
            "needs_background": "light"
          }
        }
      ]
    },
    {
      "cell_type": "markdown",
      "metadata": {
        "id": "ZA_aF2-HrxY6"
      },
      "source": [
        "Распределение значений оценок критиков имеет восходящую форму, у игроков более рассеянное.\n",
        "\n",
        "Графики визуально показывают, что в оценках критиков может иметься зависимость, а в оценках пользователей зависимость скорее отсутствует.\n",
        "\n",
        "Посчитаем корреляцию по проверки предположений."
      ]
    },
    {
      "cell_type": "code",
      "metadata": {
        "id": "2afXRKoxyg66",
        "colab": {
          "base_uri": "https://localhost:8080/"
        },
        "cellView": "form",
        "outputId": "0e6c5050-319e-4ae5-cd4c-eb75653f515f"
      },
      "source": [
        "\n",
        "\n",
        "scores_sales_correlation = (\n",
        "      work_data.query('platform_name == @top_profit_platform_name')  # отбор данных по имени платформы\n",
        "      .corr()  # определение корреляции\n",
        "      )\n",
        "\n",
        "critic_corr = round(scores_sales_correlation['critic_score']['total_sales'], 2)\n",
        "gamer_corr = round(scores_sales_correlation['gamer_score']['total_sales'], 2)\n",
        "\n",
        "print('Корреляция продаж и оценок критиков', \n",
        "      '{:.2f}'.format(critic_corr))\n",
        "\n",
        "print('Корреляция продаж и оценок игроков', \n",
        "      '{:.2f}'.format(gamer_corr))"
      ],
      "execution_count": 34,
      "outputs": [
        {
          "output_type": "stream",
          "text": [
            "Корреляция продаж и оценок критиков 0.41\n",
            "Корреляция продаж и оценок игроков -0.03\n"
          ],
          "name": "stdout"
        }
      ]
    },
    {
      "cell_type": "markdown",
      "metadata": {
        "id": "GR7u098n4khY"
      },
      "source": [
        "На самой прибыльной платформе имеется **слабая зависимость оценок критиков и продаж**.\n",
        "\n",
        "Игра с высокими продажами не обязательно получит высокую оценку критиков.\n",
        "\n",
        "Игра с низкими продажами не обязательно получит низкукую оценку критиков.\n"
      ]
    },
    {
      "cell_type": "markdown",
      "metadata": {
        "id": "sLABM8YxHAuY"
      },
      "source": [
        "**Отсутствует зависимость оценок игроков и продаж.**\n",
        "\n",
        "Вкусы игроков индивидуальны, каждый игрок оценивает игру по своему вкусу, вне зависимости от общей популярности игры."
      ]
    },
    {
      "cell_type": "markdown",
      "metadata": {
        "id": "cwNsjX-2sUc-"
      },
      "source": [
        "Для сравнение рассмотрим общую корреляцию остальным платформам."
      ]
    },
    {
      "cell_type": "code",
      "metadata": {
        "id": "hegkXcnNtKby",
        "colab": {
          "base_uri": "https://localhost:8080/",
          "height": 458
        },
        "cellView": "form",
        "outputId": "f66ad338-8724-4d67-8807-c3455b91ddaa"
      },
      "source": [
        "query = 'platform_name != @top_profit_platform_name'\n",
        "graph_data = work_data.query(query)\n",
        "sns.jointplot(x='total_sales', y='critic_score', data=graph_data, kind='reg')"
      ],
      "execution_count": 35,
      "outputs": [
        {
          "output_type": "execute_result",
          "data": {
            "text/plain": [
              "<seaborn.axisgrid.JointGrid at 0x7f86cdaffb10>"
            ]
          },
          "metadata": {
            "tags": []
          },
          "execution_count": 35
        },
        {
          "output_type": "display_data",
          "data": {
            "image/png": "[encoded data removed]",
            "text/plain": [
              "<Figure size 432x432 with 3 Axes>"
            ]
          },
          "metadata": {
            "tags": [],
            "needs_background": "light"
          }
        }
      ]
    },
    {
      "cell_type": "code",
      "metadata": {
        "id": "dB2GEURPycxW",
        "colab": {
          "base_uri": "https://localhost:8080/",
          "height": 458
        },
        "cellView": "form",
        "outputId": "509ad7ec-c0f7-434b-c653-89e82731106b"
      },
      "source": [
        "query = 'platform_name != @top_profit_platform_name'\n",
        "graph_data = work_data.query(query)\n",
        "sns.jointplot(x='total_sales', y='gamer_score', data=graph_data, kind='reg')"
      ],
      "execution_count": 36,
      "outputs": [
        {
          "output_type": "execute_result",
          "data": {
            "text/plain": [
              "<seaborn.axisgrid.JointGrid at 0x7f86cd1de050>"
            ]
          },
          "metadata": {
            "tags": []
          },
          "execution_count": 36
        },
        {
          "output_type": "display_data",
          "data": {
            "image/png": "[encoded data removed]",
            "text/plain": [
              "<Figure size 432x432 with 3 Axes>"
            ]
          },
          "metadata": {
            "tags": [],
            "needs_background": "light"
          }
        }
      ]
    },
    {
      "cell_type": "markdown",
      "metadata": {
        "id": "jk46vZv00JEj"
      },
      "source": [
        "Характер графиков значительно не изменился, однако в оценках критиков добавилось рассеянности, следует ожидать снижение зависимости оценок критиков и продаж. Но не стоит ожидать изменения зависимости в оценках игроков."
      ]
    },
    {
      "cell_type": "code",
      "metadata": {
        "id": "BiKceYRi0B7K",
        "colab": {
          "base_uri": "https://localhost:8080/"
        },
        "cellView": "form",
        "outputId": "af452e08-e454-46d1-b721-1f597d6063ce"
      },
      "source": [
        "scores_sales_correlation = (\n",
        "      work_data.query('platform_name != @top_profit_platform_name')  # отбор данных по имени платформы\n",
        "      .corr()  # определение корреляции\n",
        "      )\n",
        "\n",
        "print('Корреляция продаж и оценок критиков', \n",
        "      '{:.2f}'.format(scores_sales_correlation['critic_score']['total_sales']))\n",
        "\n",
        "print('Корреляция продаж и оценок игроков', \n",
        "      '{:.2f}'.format(scores_sales_correlation['gamer_score']['total_sales']))"
      ],
      "execution_count": 37,
      "outputs": [
        {
          "output_type": "stream",
          "text": [
            "Корреляция продаж и оценок критиков 0.31\n",
            "Корреляция продаж и оценок игроков 0.06\n"
          ],
          "name": "stdout"
        }
      ]
    },
    {
      "cell_type": "markdown",
      "metadata": {
        "id": "QAVoB2EZ1AMs"
      },
      "source": [
        "Ожидания подтвердились, зависимость оценок критиков и продаж очень слабая, а зависиость в оценке игроков и продаж существенно не изменились."
      ]
    },
    {
      "cell_type": "markdown",
      "metadata": {
        "id": "WXjN4LX-1niU"
      },
      "source": [
        "**Вывод**\n",
        "\n",
        "На площадке с наибольшими продажами имеется слабая зависимость оценок критиков и продаж. \n",
        "\n",
        "Продажи никак не зависят от оценок игроков на любых платформах, однако, на площадке с наибольшими продажами зависимость оценок критиков и продаж более выражена.\n",
        "\n",
        "Причины могут быть следующие:\n",
        "* Критики оценивают уже выпущенный продукт и уже имеют первые данные об успешности игры и оценивают, что уже есть, а не что может быть, поэтому есть соответствие между оценками критиками и продажами. \n",
        "* Работа критика подразумевает комплексную всестороннюю оценку реальности, а не только оценку собственных индивидуальных ощущений.\n",
        "* Игроки оценивают игры по своим индивидуальным ощущениям, без всесторонней оценки, сколько игроков, столько мнений, поэтому взаимосвязь с продажами не наблюдается."
      ]
    },
    {
      "cell_type": "markdown",
      "metadata": {
        "id": "JjyyxoQEVddF"
      },
      "source": [
        "## 4.8 Распределение по жанрам"
      ]
    },
    {
      "cell_type": "markdown",
      "metadata": {
        "id": "pcTtPt3M2ExX"
      },
      "source": [
        "Узнаем сумму продаж по отдельным жанрам."
      ]
    },
    {
      "cell_type": "code",
      "metadata": {
        "id": "mlCBGp21vdLD",
        "colab": {
          "base_uri": "https://localhost:8080/",
          "height": 298
        },
        "cellView": "form",
        "outputId": "0822c222-35a7-4ae5-d60e-34faa2b7d938"
      },
      "source": [
        "(\n",
        "    work_data\n",
        "    .groupby('genre_name')['total_sales']  # сортировка продаж по жанру\n",
        "    .sum()  # суммирование общих продаж\n",
        "    .sort_values(ascending=True)  # сортировка по убыванию\n",
        "    .plot(kind='barh', title='Суммарные продажи игр по жанрам')\n",
        ")"
      ],
      "execution_count": 38,
      "outputs": [
        {
          "output_type": "execute_result",
          "data": {
            "text/plain": [
              "<matplotlib.axes._subplots.AxesSubplot at 0x7f86ccab5510>"
            ]
          },
          "metadata": {
            "tags": []
          },
          "execution_count": 38
        },
        {
          "output_type": "display_data",
          "data": {
            "image/png": "[encoded data removed]",
            "text/plain": [
              "<Figure size 432x288 with 1 Axes>"
            ]
          },
          "metadata": {
            "tags": [],
            "needs_background": "light"
          }
        }
      ]
    },
    {
      "cell_type": "markdown",
      "metadata": {
        "id": "YSrIpnwfvZDg"
      },
      "source": [
        "**Вывод**\n",
        "\n",
        "Самые прибыльные жанры: Action, Shooter, Sports.\n",
        "\n",
        "Самые низкие продажи в жанрах: Adventure, Puzzle, Strategy.\n",
        "\n",
        "Игры, которые наполнены постоянной активностью пользуются большим спросом, чем игры, где требуется вдумчивые размышления."
      ]
    },
    {
      "cell_type": "markdown",
      "metadata": {
        "id": "u_P6x15FxAqF"
      },
      "source": [
        "<a name=\"5\"></a>\n",
        "# Этап 5. Составление портрета игроков каждого региона"
      ]
    },
    {
      "cell_type": "markdown",
      "metadata": {
        "id": "oRacHDy4xbha"
      },
      "source": [
        "## 5.1 Самые популярные платформы"
      ]
    },
    {
      "cell_type": "markdown",
      "metadata": {
        "id": "LNmHTcGPyBUS"
      },
      "source": [
        "### Регион Северная Америка"
      ]
    },
    {
      "cell_type": "markdown",
      "metadata": {
        "id": "7D8tX7m23Vp2"
      },
      "source": [
        "Определим самые популярные платформы в Северной Америке."
      ]
    },
    {
      "cell_type": "code",
      "metadata": {
        "id": "J2W9ksNzxmLk",
        "colab": {
          "base_uri": "https://localhost:8080/",
          "height": 298
        },
        "cellView": "form",
        "outputId": "b70c6866-863f-4d93-d613-c94791896bc6"
      },
      "source": [
        "\n",
        "\n",
        "region_name = 'na_sales'\n",
        "na_sales = (\n",
        "    work_data\n",
        "    .groupby('platform_name')[region_name]\n",
        "    .sum()\n",
        "    .sort_values(ascending=True)    \n",
        ")\n",
        "\n",
        "na_sales.plot(kind='barh', \n",
        "              title='Суммарные продажи по платформам в Северной Америке')"
      ],
      "execution_count": 39,
      "outputs": [
        {
          "output_type": "execute_result",
          "data": {
            "text/plain": [
              "<matplotlib.axes._subplots.AxesSubplot at 0x7f86cc9d4950>"
            ]
          },
          "metadata": {
            "tags": []
          },
          "execution_count": 39
        },
        {
          "output_type": "display_data",
          "data": {
            "image/png": "[encoded data removed]",
            "text/plain": [
              "<Figure size 432x288 with 1 Axes>"
            ]
          },
          "metadata": {
            "tags": [],
            "needs_background": "light"
          }
        }
      ]
    },
    {
      "cell_type": "markdown",
      "metadata": {
        "id": "iTHQOG9PyJp3"
      },
      "source": [
        "### Регион Европа"
      ]
    },
    {
      "cell_type": "markdown",
      "metadata": {
        "id": "xPOahpsp3i5F"
      },
      "source": [
        "Определим самые популярные платформы в Европе."
      ]
    },
    {
      "cell_type": "code",
      "metadata": {
        "id": "d48mWQVkyORq",
        "colab": {
          "base_uri": "https://localhost:8080/",
          "height": 298
        },
        "cellView": "form",
        "outputId": "2e00ed7d-e37b-4636-fa64-b8d50cd4507a"
      },
      "source": [
        "\n",
        "\n",
        "region_name = 'eu_sales'\n",
        "\n",
        "eu_sales = (\n",
        "    work_data\n",
        "    .groupby('platform_name')[region_name]\n",
        "    .sum()\n",
        "    .sort_values(ascending=True)    \n",
        ")\n",
        "\n",
        "eu_sales.plot(kind='barh', \n",
        "              title='Суммарные продажи по платформам в Европе')"
      ],
      "execution_count": 40,
      "outputs": [
        {
          "output_type": "execute_result",
          "data": {
            "text/plain": [
              "<matplotlib.axes._subplots.AxesSubplot at 0x7f86cc965a90>"
            ]
          },
          "metadata": {
            "tags": []
          },
          "execution_count": 40
        },
        {
          "output_type": "display_data",
          "data": {
            "image/png": "[encoded data removed]",
            "text/plain": [
              "<Figure size 432x288 with 1 Axes>"
            ]
          },
          "metadata": {
            "tags": [],
            "needs_background": "light"
          }
        }
      ]
    },
    {
      "cell_type": "markdown",
      "metadata": {
        "id": "wAz5WxzhyS5F"
      },
      "source": [
        "### Регион Япония"
      ]
    },
    {
      "cell_type": "markdown",
      "metadata": {
        "id": "w2NZQ_OA3kJj"
      },
      "source": [
        "Определим самые популярные платформы в Японии."
      ]
    },
    {
      "cell_type": "code",
      "metadata": {
        "id": "5iYnioGByWmj",
        "colab": {
          "base_uri": "https://localhost:8080/",
          "height": 298
        },
        "cellView": "form",
        "outputId": "71540070-e472-4958-a470-17227aae3bca"
      },
      "source": [
        "\n",
        "\n",
        "region_name = 'jp_sales'\n",
        "jp_sales = (\n",
        "    work_data\n",
        "    .groupby('platform_name')[region_name]\n",
        "    .sum()\n",
        "    .sort_values(ascending=True)    \n",
        ")\n",
        "\n",
        "jp_sales.plot(kind='barh', \n",
        "              title='Суммарные продажи по платформам в Японии')"
      ],
      "execution_count": 41,
      "outputs": [
        {
          "output_type": "execute_result",
          "data": {
            "text/plain": [
              "<matplotlib.axes._subplots.AxesSubplot at 0x7f86cc986b10>"
            ]
          },
          "metadata": {
            "tags": []
          },
          "execution_count": 41
        },
        {
          "output_type": "display_data",
          "data": {
            "image/png": "[encoded data removed]",
            "text/plain": [
              "<Figure size 432x288 with 1 Axes>"
            ]
          },
          "metadata": {
            "tags": [],
            "needs_background": "light"
          }
        }
      ]
    },
    {
      "cell_type": "markdown",
      "metadata": {
        "id": "zKDvEvke4CtF"
      },
      "source": [
        "**<center>Сводка популярных платформ по продажам</center>**\n",
        "\n",
        " Позиция | Северная Америка | Европа | Япония\n",
        "-:|:-:|:-:|:-:\n",
        "1 | X360 | PS3 | DS\n",
        "2 | PS2 | PS2 | PS2\n",
        "3 | Wii | X360 | 3DS\n",
        "4 | PS3 | Wii | PS3\n",
        "5 | DS | DS | PSP\n",
        "\n"
      ]
    },
    {
      "cell_type": "markdown",
      "metadata": {
        "id": "gPCx452xPqIL"
      },
      "source": [
        "Построим графики соотношения продаж по платформам в разных регионах."
      ]
    },
    {
      "cell_type": "code",
      "metadata": {
        "id": "fCV6ENk_PqIL",
        "colab": {
          "base_uri": "https://localhost:8080/",
          "height": 700
        },
        "cellView": "form",
        "outputId": "bda31647-533a-4d01-8299-999b30c4495e"
      },
      "source": [
        "# определение данных для оси Х\n",
        "x1 = na_sales.index\n",
        "x2 = eu_sales.index\n",
        "x3 = jp_sales.index\n",
        "\n",
        "# определение данных для оси У\n",
        "y1 = na_sales.values\n",
        "y2 = eu_sales.values\n",
        "y3 = jp_sales.values\n",
        "\n",
        "\n",
        "fig, ax = plt.subplots()  # создание графических объектов\n",
        "\n",
        "fig.set_figwidth(10)  # ширина графика\n",
        "fig.set_figheight(12)  # высота графика\n",
        "\n",
        "# создание линий графиков\n",
        "ax.bar(x1, y1, label='Северная Америка') \n",
        "ax.bar(x2, y2, label='Европа', bottom = y1.max()+25)\n",
        "ax.bar(x3, y3, label='Япония', bottom = y1.max()+y2.max()+25*2)\n",
        "\n",
        "ax.legend(loc=\"upper right\")\n",
        "\n",
        "plt.show()  # отрифовка графика"
      ],
      "execution_count": 42,
      "outputs": [
        {
          "output_type": "display_data",
          "data": {
            "image/png": "[encoded data removed]",
            "text/plain": [
              "<Figure size 720x864 with 1 Axes>"
            ]
          },
          "metadata": {
            "tags": [],
            "needs_background": "light"
          }
        }
      ]
    },
    {
      "cell_type": "markdown",
      "metadata": {
        "id": "YFRwzX8s6CIT"
      },
      "source": [
        "**Выводы**\n",
        "\n",
        "На рынке Северной Америки лидирует отечественная компания.\n",
        "\n",
        "На рынке Японии в пятёрке лидеров только отечественные компании. \n",
        "\n",
        "В Европе лидерство удалось занять японской платформе, можно сделать предположение, что если бы существовала крупная европейская игровая платформа, то у неё были шансы занять лидерство на отечественном рынке.\n",
        "\n",
        "В целом видно доминирование японских игровых платформ.\n",
        "\n",
        "Следует отметить, что для Японии отсутствуют данные для персональных компьютеров, платформа имеет всемирное распространнеие, поэтому вероятность пропуска данных больше, чем нулевые продажи."
      ]
    },
    {
      "cell_type": "markdown",
      "metadata": {
        "id": "voYA_TXXxmoZ"
      },
      "source": [
        "## 5.2 Самые популярные жанры"
      ]
    },
    {
      "cell_type": "markdown",
      "metadata": {
        "id": "0HlZnghkyGSD"
      },
      "source": [
        "### Регион Северная Америка"
      ]
    },
    {
      "cell_type": "markdown",
      "metadata": {
        "id": "VaKi_UEH7bx5"
      },
      "source": [
        "Определим самые популярные жанры региона Северная Америка"
      ]
    },
    {
      "cell_type": "code",
      "metadata": {
        "id": "_02wh3C8xsL5",
        "colab": {
          "base_uri": "https://localhost:8080/",
          "height": 298
        },
        "cellView": "form",
        "outputId": "3d53433f-23f1-4285-b367-afc2bb904d4b"
      },
      "source": [
        "region_name = 'na_sales'\n",
        "\n",
        "genre_na = (\n",
        "    work_data\n",
        "    .groupby('genre_name')[region_name]\n",
        "    .sum()\n",
        "    .sort_values(ascending=True)\n",
        ")\n",
        "\n",
        "genre_na.plot(kind='barh', \n",
        "              title='Суммарные продажи по жанрам в Северной Америке')"
      ],
      "execution_count": 43,
      "outputs": [
        {
          "output_type": "execute_result",
          "data": {
            "text/plain": [
              "<matplotlib.axes._subplots.AxesSubplot at 0x7f86ccab2810>"
            ]
          },
          "metadata": {
            "tags": []
          },
          "execution_count": 43
        },
        {
          "output_type": "display_data",
          "data": {
            "image/png": "[encoded data removed]",
            "text/plain": [
              "<Figure size 432x288 with 1 Axes>"
            ]
          },
          "metadata": {
            "tags": [],
            "needs_background": "light"
          }
        }
      ]
    },
    {
      "cell_type": "markdown",
      "metadata": {
        "id": "d1LZFe_8yPUC"
      },
      "source": [
        "### Регион Европа"
      ]
    },
    {
      "cell_type": "markdown",
      "metadata": {
        "id": "ppE_3f7Y7XqA"
      },
      "source": [
        "Определим самые популярные жанры региона Европа"
      ]
    },
    {
      "cell_type": "code",
      "metadata": {
        "id": "jjNM3H14yQBq",
        "colab": {
          "base_uri": "https://localhost:8080/",
          "height": 298
        },
        "cellView": "form",
        "outputId": "6410a3c4-8598-4718-f7ae-646e45ef470c"
      },
      "source": [
        "region_name = 'eu_sales'\n",
        "genre_eu = (\n",
        "    work_data\n",
        "    .groupby('genre_name')['eu_sales']\n",
        "    .sum()\n",
        "    .sort_values(ascending=True)\n",
        ")\n",
        "\n",
        "genre_eu.plot(kind='barh', \n",
        "              title='Суммарные продажи по жанрам в Европе')"
      ],
      "execution_count": 44,
      "outputs": [
        {
          "output_type": "execute_result",
          "data": {
            "text/plain": [
              "<matplotlib.axes._subplots.AxesSubplot at 0x7f86cc69f750>"
            ]
          },
          "metadata": {
            "tags": []
          },
          "execution_count": 44
        },
        {
          "output_type": "display_data",
          "data": {
            "image/png": "[encoded data removed]",
            "text/plain": [
              "<Figure size 432x288 with 1 Axes>"
            ]
          },
          "metadata": {
            "tags": [],
            "needs_background": "light"
          }
        }
      ]
    },
    {
      "cell_type": "markdown",
      "metadata": {
        "id": "8bZAITODyXdo"
      },
      "source": [
        "### Регион Япония"
      ]
    },
    {
      "cell_type": "markdown",
      "metadata": {
        "id": "XEhziUY-7UBJ"
      },
      "source": [
        "Определим самые популярные жанры региона Япония"
      ]
    },
    {
      "cell_type": "code",
      "metadata": {
        "id": "BS2Ln_1NyYPV",
        "colab": {
          "base_uri": "https://localhost:8080/",
          "height": 298
        },
        "cellView": "form",
        "outputId": "327209f6-445b-4cf2-a39c-283563a4e5ef"
      },
      "source": [
        "region_name = 'jp_sales'\n",
        "\n",
        "genre_jp = (\n",
        "    work_data\n",
        "    .groupby('genre_name')[region_name]\n",
        "    .sum()\n",
        "    .sort_values(ascending=True)\n",
        ")\n",
        "\n",
        "genre_jp.plot(kind='barh', \n",
        "              title='Суммарные продажи по жанрам в Японии')"
      ],
      "execution_count": 45,
      "outputs": [
        {
          "output_type": "execute_result",
          "data": {
            "text/plain": [
              "<matplotlib.axes._subplots.AxesSubplot at 0x7f86cc68a610>"
            ]
          },
          "metadata": {
            "tags": []
          },
          "execution_count": 45
        },
        {
          "output_type": "display_data",
          "data": {
            "image/png": "[encoded data removed]",
            "text/plain": [
              "<Figure size 432x288 with 1 Axes>"
            ]
          },
          "metadata": {
            "tags": [],
            "needs_background": "light"
          }
        }
      ]
    },
    {
      "cell_type": "markdown",
      "metadata": {
        "id": "6xobPvCS7qUD"
      },
      "source": [
        "**<center>Сводка популярных платформ по продажам</center>**\n",
        "\n",
        " Позиция | Северная Америка | Европа | Япония\n",
        "-:|:-:|:-:|:-:\n",
        "1 | Action | Action | Role-Playing\n",
        "2 | Sports | Shooter | Action\n",
        "3 | Shooter | Shooter | Misc\n",
        "4 | Misc | Misc | Sports\n",
        "5 | Role-Playing | Racing | Platform\n"
      ]
    },
    {
      "cell_type": "markdown",
      "metadata": {
        "id": "SCTrOWviPqIP"
      },
      "source": [
        "Построим графики соотношения продаж по жанрам в разных регионах."
      ]
    },
    {
      "cell_type": "code",
      "metadata": {
        "id": "HJeKNc3uPqIP",
        "colab": {
          "base_uri": "https://localhost:8080/",
          "height": 700
        },
        "cellView": "form",
        "outputId": "9049c861-5bc7-423b-e8ab-8728eedd3e14"
      },
      "source": [
        "# определение данных для оси Х\n",
        "x1 = genre_na.index\n",
        "x2 = genre_eu.index\n",
        "x3 = genre_jp.index\n",
        "\n",
        "# определение данных для оси Y\n",
        "y1 = genre_na.values\n",
        "y2 = genre_eu.values\n",
        "y3 = genre_jp.values\n",
        "\n",
        "fig, ax = plt.subplots()  # создание графических объектов\n",
        "\n",
        "fig.set_figwidth(12.5)  # ширина графика\n",
        "fig.set_figheight(12)  # высота графика\n",
        "\n",
        "# создание линий графиков\n",
        "ax.bar(x1, y1, label='Северная Америка') \n",
        "ax.bar(x2, y2, label='Европа', bottom = y1.max()+25)\n",
        "ax.bar(x3, y3, label='Япония', bottom = y1.max()+y2.max()+25*2)\n",
        "\n",
        "ax.legend(loc=\"upper right\")\n",
        "\n",
        "plt.show()  # отрифовка графика"
      ],
      "execution_count": 46,
      "outputs": [
        {
          "output_type": "display_data",
          "data": {
            "image/png": "[encoded data removed]",
            "text/plain": [
              "<Figure size 900x864 with 1 Axes>"
            ]
          },
          "metadata": {
            "tags": [],
            "needs_background": "light"
          }
        }
      ]
    },
    {
      "cell_type": "markdown",
      "metadata": {
        "id": "YUT8lNbCPqIQ"
      },
      "source": [
        "Как видно на графиках, предпочтения во вкусах в Северной Америке и Европе очень близки.\n",
        "\n",
        "Во Вкусах Японии имеется перевес в жанрах `Role-Playing` и `Action`, остальные жары примерно одинаковы по продажам, в Европе и Америке распределение продаж в жанрах имеют плавное снижение.\n",
        "\n",
        "Можно предположить, что в Японии производство и продвижение соспредоточено вокруг основных жанров, остальные жанры получают внимание по остаточному принципу."
      ]
    },
    {
      "cell_type": "markdown",
      "metadata": {
        "id": "8NU1S0Dh7qUb"
      },
      "source": [
        "**Выводы**\n",
        "\n",
        "Вкусы Северной Америки и Европы практически одинаковые и по видам и по продажам, разница в препочтении ролевых и гоночных игр.\n",
        "\n",
        "Вкусы Японии по видам жанров в большинстве совпадают, но полностью различаются по продажам, например стрелялки даже не вошли в пятёрку предпочтений, вместо этого японцы предпочитают платформеры.\n",
        "\n",
        "В целом вкусы Северной Америки и Европы схожи, а с Японией координально различны.\n",
        "\n",
        "Северная Америка и Европа близки по языкам, менталитетам, привычкам и вкусам.\n",
        "\n",
        "Япония другая самобыстная цивилизация со своими вкусами и привычками, со своей индустрией производства игр. \n",
        "\n",
        "В Евпропе отсутсвует собственная масштабная игровая индустрия, в итоге Европой потребляется, то что создаётся в Северной Америке."
      ]
    },
    {
      "cell_type": "markdown",
      "metadata": {
        "id": "79yCl_9Rxsqh"
      },
      "source": [
        "## 5.3 Влияние рейтинга ESRB на продажи"
      ]
    },
    {
      "cell_type": "markdown",
      "metadata": {
        "id": "-W9gmSEpvUnD"
      },
      "source": [
        "Рейтинг обозначается буквами, аналитические системы настроены на работу с числами, поэтому предварительно необходимо буквенные обозначения рейтинга перевести в числовые коды."
      ]
    },
    {
      "cell_type": "code",
      "metadata": {
        "id": "Td2jOjTM61ap",
        "colab": {
          "base_uri": "https://localhost:8080/",
          "height": 204
        },
        "cellView": "form",
        "outputId": "8b47e5da-4be0-4d85-acee-d86256eaf564"
      },
      "source": [
        "# определение числовых кодов рейтинга в отдельном столбце\n",
        "work_data['esrb_rating_codes'] = (\n",
        "    work_data['esrb_rating']  # выбор столбца с рейтингами\n",
        "    .astype('category')  # выделение категорий\n",
        "    .cat  # получение доступа к категорием\n",
        "    .codes  # присвоение кодов для категорий\n",
        ")\n",
        "work_data.head()  # вывод результатов обработки"
      ],
      "execution_count": 47,
      "outputs": [
        {
          "output_type": "execute_result",
          "data": {
            "text/html": [
              "<div>\n",
              "<style scoped>\n",
              "    .dataframe tbody tr th:only-of-type {\n",
              "        vertical-align: middle;\n",
              "    }\n",
              "\n",
              "    .dataframe tbody tr th {\n",
              "        vertical-align: top;\n",
              "    }\n",
              "\n",
              "    .dataframe thead th {\n",
              "        text-align: right;\n",
              "    }\n",
              "</style>\n",
              "<table border=\"1\" class=\"dataframe\">\n",
              "  <thead>\n",
              "    <tr style=\"text-align: right;\">\n",
              "      <th></th>\n",
              "      <th>game_name</th>\n",
              "      <th>platform_name</th>\n",
              "      <th>year_of_release</th>\n",
              "      <th>genre_name</th>\n",
              "      <th>na_sales</th>\n",
              "      <th>eu_sales</th>\n",
              "      <th>jp_sales</th>\n",
              "      <th>other_sales</th>\n",
              "      <th>total_sales</th>\n",
              "      <th>critic_score</th>\n",
              "      <th>gamer_score</th>\n",
              "      <th>esrb_rating</th>\n",
              "      <th>esrb_rating_codes</th>\n",
              "    </tr>\n",
              "  </thead>\n",
              "  <tbody>\n",
              "    <tr>\n",
              "      <th>0</th>\n",
              "      <td>Kinect Adventures!</td>\n",
              "      <td>X360</td>\n",
              "      <td>2010.0</td>\n",
              "      <td>Misc</td>\n",
              "      <td>15.00</td>\n",
              "      <td>4.89</td>\n",
              "      <td>0.24</td>\n",
              "      <td>1.69</td>\n",
              "      <td>21.82</td>\n",
              "      <td>61.0</td>\n",
              "      <td>6.3</td>\n",
              "      <td>E</td>\n",
              "      <td>0</td>\n",
              "    </tr>\n",
              "    <tr>\n",
              "      <th>1</th>\n",
              "      <td>Grand Theft Auto V</td>\n",
              "      <td>PS3</td>\n",
              "      <td>2013.0</td>\n",
              "      <td>Action</td>\n",
              "      <td>7.02</td>\n",
              "      <td>9.09</td>\n",
              "      <td>0.98</td>\n",
              "      <td>3.96</td>\n",
              "      <td>21.05</td>\n",
              "      <td>97.0</td>\n",
              "      <td>8.2</td>\n",
              "      <td>M</td>\n",
              "      <td>3</td>\n",
              "    </tr>\n",
              "    <tr>\n",
              "      <th>2</th>\n",
              "      <td>Grand Theft Auto V</td>\n",
              "      <td>X360</td>\n",
              "      <td>2013.0</td>\n",
              "      <td>Action</td>\n",
              "      <td>9.66</td>\n",
              "      <td>5.14</td>\n",
              "      <td>0.06</td>\n",
              "      <td>1.41</td>\n",
              "      <td>16.27</td>\n",
              "      <td>97.0</td>\n",
              "      <td>8.1</td>\n",
              "      <td>M</td>\n",
              "      <td>3</td>\n",
              "    </tr>\n",
              "    <tr>\n",
              "      <th>3</th>\n",
              "      <td>Pokemon Black/Pokemon White</td>\n",
              "      <td>DS</td>\n",
              "      <td>2010.0</td>\n",
              "      <td>Role-Playing</td>\n",
              "      <td>5.51</td>\n",
              "      <td>3.17</td>\n",
              "      <td>5.65</td>\n",
              "      <td>0.80</td>\n",
              "      <td>15.13</td>\n",
              "      <td>NaN</td>\n",
              "      <td>NaN</td>\n",
              "      <td>unknown</td>\n",
              "      <td>6</td>\n",
              "    </tr>\n",
              "    <tr>\n",
              "      <th>4</th>\n",
              "      <td>Call of Duty: Modern Warfare 3</td>\n",
              "      <td>X360</td>\n",
              "      <td>2011.0</td>\n",
              "      <td>Shooter</td>\n",
              "      <td>9.04</td>\n",
              "      <td>4.24</td>\n",
              "      <td>0.13</td>\n",
              "      <td>1.32</td>\n",
              "      <td>14.73</td>\n",
              "      <td>88.0</td>\n",
              "      <td>3.4</td>\n",
              "      <td>M</td>\n",
              "      <td>3</td>\n",
              "    </tr>\n",
              "  </tbody>\n",
              "</table>\n",
              "</div>"
            ],
            "text/plain": [
              "                        game_name platform_name  ...  esrb_rating esrb_rating_codes\n",
              "0              Kinect Adventures!          X360  ...            E                 0\n",
              "1              Grand Theft Auto V           PS3  ...            M                 3\n",
              "2              Grand Theft Auto V          X360  ...            M                 3\n",
              "3     Pokemon Black/Pokemon White            DS  ...      unknown                 6\n",
              "4  Call of Duty: Modern Warfare 3          X360  ...            M                 3\n",
              "\n",
              "[5 rows x 13 columns]"
            ]
          },
          "metadata": {
            "tags": []
          },
          "execution_count": 47
        }
      ]
    },
    {
      "cell_type": "markdown",
      "metadata": {
        "id": "3B_V433LxVC-"
      },
      "source": [
        "Теперь можно проанализировть связь рейтинга с продажами."
      ]
    },
    {
      "cell_type": "code",
      "metadata": {
        "id": "aBWXLYUzPqIS",
        "colab": {
          "base_uri": "https://localhost:8080/"
        },
        "outputId": "997b1c72-10ea-47be-e9ef-fc2a00bd781c"
      },
      "source": [
        "correlation = work_data['total_sales'].corr(work_data['esrb_rating_codes'])\n",
        "print('Кореляция рейтинга и продаж:', '{:.2f}'.format(correlation))"
      ],
      "execution_count": 48,
      "outputs": [
        {
          "output_type": "stream",
          "text": [
            "Кореляция рейтинга и продаж: -0.13\n"
          ],
          "name": "stdout"
        }
      ]
    },
    {
      "cell_type": "markdown",
      "metadata": {
        "id": "JKbdDyDlPqIT"
      },
      "source": [
        "Кореляция рейтинга и продаж незначительная, однако следует обратить внимание на отрицательную величину показателя. Что можно объяснить, что рейтинг всё же влияет на сдерживание продаж, в чём отчасти и заключается назначение рейтинга, например, ограничивать продажи по возрасту."
      ]
    },
    {
      "cell_type": "markdown",
      "metadata": {
        "id": "oiRAKoM-PqIU"
      },
      "source": [
        "Получим продажи по рейтингам в различных регионах"
      ]
    },
    {
      "cell_type": "markdown",
      "metadata": {
        "id": "AgeHnHfHPqIU"
      },
      "source": [
        "### Регион Северная Америка"
      ]
    },
    {
      "cell_type": "code",
      "metadata": {
        "id": "czbwlxTYPqIV",
        "colab": {
          "base_uri": "https://localhost:8080/",
          "height": 349
        },
        "cellView": "form",
        "outputId": "b8a0cb58-5f0f-4ce3-f9dd-2c3c5294ed6f"
      },
      "source": [
        "rating_sales_na = (\n",
        "    work_data\n",
        "    .groupby('esrb_rating')['na_sales']\n",
        "    .sum()\n",
        "    .sort_values(ascending=False)\n",
        ")\n",
        "\n",
        "rating_sales_na.plot(kind='bar',\n",
        "                     title='Суммарные продажи по рейтингам в Северной Америке')"
      ],
      "execution_count": 49,
      "outputs": [
        {
          "output_type": "execute_result",
          "data": {
            "text/plain": [
              "<matplotlib.axes._subplots.AxesSubplot at 0x7f86cc547110>"
            ]
          },
          "metadata": {
            "tags": []
          },
          "execution_count": 49
        },
        {
          "output_type": "display_data",
          "data": {
            "image/png": "[encoded data removed]",
            "text/plain": [
              "<Figure size 432x288 with 1 Axes>"
            ]
          },
          "metadata": {
            "tags": [],
            "needs_background": "light"
          }
        }
      ]
    },
    {
      "cell_type": "markdown",
      "metadata": {
        "id": "qN1pJIOlPqIV"
      },
      "source": [
        "### Регион Европа"
      ]
    },
    {
      "cell_type": "code",
      "metadata": {
        "id": "JnuGzKatPqIV",
        "colab": {
          "base_uri": "https://localhost:8080/",
          "height": 349
        },
        "cellView": "form",
        "outputId": "d6c5e653-9191-4ef1-dafe-6c90187b3669"
      },
      "source": [
        "rating_sales_eu = (\n",
        "    work_data\n",
        "    .groupby('esrb_rating')['eu_sales']\n",
        "    .sum()\n",
        "    .sort_values(ascending=False)\n",
        ")\n",
        "\n",
        "rating_sales_eu.plot(kind='bar',\n",
        "                     title='Суммарные продажи по рейтингам в Европе')"
      ],
      "execution_count": 50,
      "outputs": [
        {
          "output_type": "execute_result",
          "data": {
            "text/plain": [
              "<matplotlib.axes._subplots.AxesSubplot at 0x7f86cc437950>"
            ]
          },
          "metadata": {
            "tags": []
          },
          "execution_count": 50
        },
        {
          "output_type": "display_data",
          "data": {
            "image/png": "[encoded data removed]",
            "text/plain": [
              "<Figure size 432x288 with 1 Axes>"
            ]
          },
          "metadata": {
            "tags": [],
            "needs_background": "light"
          }
        }
      ]
    },
    {
      "cell_type": "markdown",
      "metadata": {
        "id": "2IytAxtDPqIW"
      },
      "source": [
        "### Регион Япония"
      ]
    },
    {
      "cell_type": "code",
      "metadata": {
        "id": "naF8DodkPqIW",
        "colab": {
          "base_uri": "https://localhost:8080/",
          "height": 349
        },
        "cellView": "form",
        "outputId": "00bd1925-f60a-480b-b1b9-8fa1e8d71ccc"
      },
      "source": [
        "rating_sales_jp = (\n",
        "    work_data\n",
        "    .groupby('esrb_rating')['jp_sales']\n",
        "    .sum()\n",
        "    .sort_values(ascending=False)\n",
        ")\n",
        "\n",
        "rating_sales_jp.plot(kind='bar',\n",
        "                     title='Суммарные продажи по рейтингам в Японии')"
      ],
      "execution_count": 51,
      "outputs": [
        {
          "output_type": "execute_result",
          "data": {
            "text/plain": [
              "<matplotlib.axes._subplots.AxesSubplot at 0x7f86cd67c690>"
            ]
          },
          "metadata": {
            "tags": []
          },
          "execution_count": 51
        },
        {
          "output_type": "display_data",
          "data": {
            "image/png": "[encoded data removed]",
            "text/plain": [
              "<Figure size 432x288 with 1 Axes>"
            ]
          },
          "metadata": {
            "tags": [],
            "needs_background": "light"
          }
        }
      ]
    },
    {
      "cell_type": "markdown",
      "metadata": {
        "id": "T65gh08IPqIW"
      },
      "source": [
        "Построим графики для всех регионов"
      ]
    },
    {
      "cell_type": "code",
      "metadata": {
        "scrolled": false,
        "id": "U1NHjilMPqIX",
        "colab": {
          "base_uri": "https://localhost:8080/",
          "height": 499
        },
        "cellView": "form",
        "outputId": "cdeceb32-59ee-4568-e05d-e51ba1b1a657"
      },
      "source": [
        "x1 = rating_sales_na.index\n",
        "x2 = rating_sales_eu.index\n",
        "x3 = rating_sales_jp.index\n",
        "\n",
        "y1 = rating_sales_na.values\n",
        "y2 = rating_sales_eu.values\n",
        "y3 = rating_sales_jp.values\n",
        "\n",
        "fig, ax = plt.subplots()\n",
        "\n",
        "fig.set_figheight(8)\n",
        "\n",
        "ax.set_title('Продажи по рейтингу в различных регионах')\n",
        "\n",
        "ax.bar(x1, y1, label='Северная Америка')\n",
        "ax.bar(x2, y2, bottom = y1.max()+25, label='Европа')\n",
        "ax.bar(x3, y3, bottom = y1.max()+y2.max()+25*2, label='Япония')\n",
        "\n",
        "ax.legend()\n",
        "plt.show()"
      ],
      "execution_count": 52,
      "outputs": [
        {
          "output_type": "display_data",
          "data": {
            "image/png": "[encoded data removed]",
            "text/plain": [
              "<Figure size 432x576 with 1 Axes>"
            ]
          },
          "metadata": {
            "tags": [],
            "needs_background": "light"
          }
        }
      ]
    },
    {
      "cell_type": "markdown",
      "metadata": {
        "id": "Z_kPllWtPqIX"
      },
      "source": [
        "Пояснение к существующим рейтингам:\n",
        "* «EC» («Early childhood») — «Для детей младшего возраста»\n",
        "* «E» («Everyone») — «Для всех»\n",
        "* «E10+» («Everyone 10 and older») — «Для всех от 10 лет и старше»\n",
        "* «T» («Teen») — «Подросткам»\n",
        "* «M» («Mature») — «Для взрослых»\n",
        "* «RP» («Rating Pending») — «Рейтинг ожидается»\n",
        "* «AO» («Adults Only 18+») — «Только для взрослых»"
      ]
    },
    {
      "cell_type": "markdown",
      "metadata": {
        "id": "eOwaa2zGPqIX"
      },
      "source": [
        "Как видно бóльшая часть продаж игр в Японии относится к неизвестному рейтингу, что может означать что в Японии своя система оценки игр, а именно система [CERO](https://ru.wikipedia.org/wiki/Computer_Entertainment_Rating_Organization), поэтому для подробного анализа японских игр необходима дополнительная информация.\n",
        "\n",
        "Что можно отметить в полученных данных:\n",
        "* В США и Европе единая система оценок игр;\n",
        "* Соотношения рейтингов и продаж в США и Европе практически одинаковы;\n",
        "* По части доступных данных в Японии другая структура продаж по рейтингу;\n",
        "* Самый популярный рейтинг: «M» — «Для взрослых»;\n",
        "* Второй по популярности рейтинг: «E» — «Для всех»\n",
        "* Остальные рейтинги с заметными продажами: «T» — «Подросткам» и «E10+» «Для всех от 10 лет и старше»;\n",
        "* Продажи игр для малышей (рейтинг «EC») около нуля;\n",
        "* «Рейтинг ожидается» («RP») временный рейтинг до выпуска игры, поэтому продажи должны быть на нулевом уровне.\n"
      ]
    },
    {
      "cell_type": "markdown",
      "metadata": {
        "id": "m_pGf0II_pG-"
      },
      "source": [
        "**Выводы**\n",
        "\n",
        "Рейтинг не влияет напрямую на продажи, рейтинг скорее перераспределяет продажи по категорием и незначительно сдерживает продажи, например, при ограничении по возрасту\n",
        "\n",
        "Из распределения продаж по рейтингу можно сделать предположение, что продажи по рейтингу завясят от платежеспособности покупателей, чем от возрастного интереса к играм и возможности тратить время на игры.\n",
        "\n",
        "Игры для взрослых продаются лучше всего, поскольку у взрослых наибольшие финансовые возможности покупать игры, а у подстростков бюджет на игры ограничен, не смотря на возрастной интерес к играм.\n",
        "Универсальные игры для всех продаются хуже игр для взрослых, поскольку эти игры для групп с разной платежеспособностью, в итоге универсальность в рейтинге не даёт приемуществ в продажах."
      ]
    },
    {
      "cell_type": "markdown",
      "metadata": {
        "id": "lu9zI3X2AMAK"
      },
      "source": [
        "<a name=\"6\"></a>\n",
        "# Этап 6. Исследование статистических показателей"
      ]
    },
    {
      "cell_type": "markdown",
      "metadata": {
        "id": "Oo-Z71xkAcgq"
      },
      "source": [
        "## 6.1 Расчёт среднего, дисперсии, отклонения"
      ]
    },
    {
      "cell_type": "markdown",
      "metadata": {
        "id": "tvxaYX6T40LN"
      },
      "source": [
        "Для дальнейшего анализа будем использовать средние значения, дисперсию и среднеквадратичные отклонения. \n",
        "\n",
        "Сначала посчитаем, потом визуализируем и сделаем выводы."
      ]
    },
    {
      "cell_type": "code",
      "metadata": {
        "id": "FtbTIFUWAcXi",
        "colab": {
          "base_uri": "https://localhost:8080/",
          "height": 483
        },
        "cellView": "form",
        "outputId": "0bcb1e8d-d187-48cf-d143-d1c8596109a0"
      },
      "source": [
        "rating_stats = (\n",
        "    work_data\n",
        "    .groupby('genre_name')[['critic_score', 'gamer_score']]  # отбор жанров и оценок\n",
        "    .agg(['mean', 'var', 'std'])  # расчёт показателей\n",
        "    )\n",
        "rating_stats"
      ],
      "execution_count": 53,
      "outputs": [
        {
          "output_type": "execute_result",
          "data": {
            "text/html": [
              "<div>\n",
              "<style scoped>\n",
              "    .dataframe tbody tr th:only-of-type {\n",
              "        vertical-align: middle;\n",
              "    }\n",
              "\n",
              "    .dataframe tbody tr th {\n",
              "        vertical-align: top;\n",
              "    }\n",
              "\n",
              "    .dataframe thead tr th {\n",
              "        text-align: left;\n",
              "    }\n",
              "\n",
              "    .dataframe thead tr:last-of-type th {\n",
              "        text-align: right;\n",
              "    }\n",
              "</style>\n",
              "<table border=\"1\" class=\"dataframe\">\n",
              "  <thead>\n",
              "    <tr>\n",
              "      <th></th>\n",
              "      <th colspan=\"3\" halign=\"left\">critic_score</th>\n",
              "      <th colspan=\"3\" halign=\"left\">gamer_score</th>\n",
              "    </tr>\n",
              "    <tr>\n",
              "      <th></th>\n",
              "      <th>mean</th>\n",
              "      <th>var</th>\n",
              "      <th>std</th>\n",
              "      <th>mean</th>\n",
              "      <th>var</th>\n",
              "      <th>std</th>\n",
              "    </tr>\n",
              "    <tr>\n",
              "      <th>genre_name</th>\n",
              "      <th></th>\n",
              "      <th></th>\n",
              "      <th></th>\n",
              "      <th></th>\n",
              "      <th></th>\n",
              "      <th></th>\n",
              "    </tr>\n",
              "  </thead>\n",
              "  <tbody>\n",
              "    <tr>\n",
              "      <th>Action</th>\n",
              "      <td>68.889045</td>\n",
              "      <td>181.991891</td>\n",
              "      <td>13.490437</td>\n",
              "      <td>6.781900</td>\n",
              "      <td>1.850148</td>\n",
              "      <td>1.360201</td>\n",
              "    </tr>\n",
              "    <tr>\n",
              "      <th>Adventure</th>\n",
              "      <td>70.242424</td>\n",
              "      <td>161.042672</td>\n",
              "      <td>12.690259</td>\n",
              "      <td>7.360748</td>\n",
              "      <td>1.727313</td>\n",
              "      <td>1.314273</td>\n",
              "    </tr>\n",
              "    <tr>\n",
              "      <th>Fighting</th>\n",
              "      <td>70.073171</td>\n",
              "      <td>187.281487</td>\n",
              "      <td>13.685083</td>\n",
              "      <td>6.970992</td>\n",
              "      <td>1.761921</td>\n",
              "      <td>1.327374</td>\n",
              "    </tr>\n",
              "    <tr>\n",
              "      <th>Misc</th>\n",
              "      <td>69.021429</td>\n",
              "      <td>163.373638</td>\n",
              "      <td>12.781770</td>\n",
              "      <td>6.646853</td>\n",
              "      <td>2.249127</td>\n",
              "      <td>1.499709</td>\n",
              "    </tr>\n",
              "    <tr>\n",
              "      <th>Platform</th>\n",
              "      <td>74.432990</td>\n",
              "      <td>170.039734</td>\n",
              "      <td>13.039928</td>\n",
              "      <td>7.072381</td>\n",
              "      <td>2.708364</td>\n",
              "      <td>1.645711</td>\n",
              "    </tr>\n",
              "    <tr>\n",
              "      <th>Puzzle</th>\n",
              "      <td>71.740741</td>\n",
              "      <td>77.430199</td>\n",
              "      <td>8.799443</td>\n",
              "      <td>7.114286</td>\n",
              "      <td>1.211286</td>\n",
              "      <td>1.100584</td>\n",
              "    </tr>\n",
              "    <tr>\n",
              "      <th>Racing</th>\n",
              "      <td>70.739437</td>\n",
              "      <td>181.782689</td>\n",
              "      <td>13.482681</td>\n",
              "      <td>6.378082</td>\n",
              "      <td>2.580482</td>\n",
              "      <td>1.606388</td>\n",
              "    </tr>\n",
              "    <tr>\n",
              "      <th>Role-Playing</th>\n",
              "      <td>73.062992</td>\n",
              "      <td>147.245028</td>\n",
              "      <td>12.134456</td>\n",
              "      <td>7.283396</td>\n",
              "      <td>1.450481</td>\n",
              "      <td>1.204359</td>\n",
              "    </tr>\n",
              "    <tr>\n",
              "      <th>Shooter</th>\n",
              "      <td>71.881188</td>\n",
              "      <td>188.853387</td>\n",
              "      <td>13.742394</td>\n",
              "      <td>6.486068</td>\n",
              "      <td>2.355861</td>\n",
              "      <td>1.534881</td>\n",
              "    </tr>\n",
              "    <tr>\n",
              "      <th>Simulation</th>\n",
              "      <td>64.670886</td>\n",
              "      <td>157.659526</td>\n",
              "      <td>12.556254</td>\n",
              "      <td>6.162353</td>\n",
              "      <td>2.923804</td>\n",
              "      <td>1.709913</td>\n",
              "    </tr>\n",
              "    <tr>\n",
              "      <th>Sports</th>\n",
              "      <td>70.696970</td>\n",
              "      <td>241.991474</td>\n",
              "      <td>15.556075</td>\n",
              "      <td>5.901587</td>\n",
              "      <td>2.835634</td>\n",
              "      <td>1.683934</td>\n",
              "    </tr>\n",
              "    <tr>\n",
              "      <th>Strategy</th>\n",
              "      <td>73.500000</td>\n",
              "      <td>151.859155</td>\n",
              "      <td>12.323115</td>\n",
              "      <td>6.627848</td>\n",
              "      <td>2.913574</td>\n",
              "      <td>1.706919</td>\n",
              "    </tr>\n",
              "  </tbody>\n",
              "</table>\n",
              "</div>"
            ],
            "text/plain": [
              "             critic_score              ... gamer_score          \n",
              "                     mean         var  ...         var       std\n",
              "genre_name                             ...                      \n",
              "Action          68.889045  181.991891  ...    1.850148  1.360201\n",
              "Adventure       70.242424  161.042672  ...    1.727313  1.314273\n",
              "Fighting        70.073171  187.281487  ...    1.761921  1.327374\n",
              "Misc            69.021429  163.373638  ...    2.249127  1.499709\n",
              "Platform        74.432990  170.039734  ...    2.708364  1.645711\n",
              "Puzzle          71.740741   77.430199  ...    1.211286  1.100584\n",
              "Racing          70.739437  181.782689  ...    2.580482  1.606388\n",
              "Role-Playing    73.062992  147.245028  ...    1.450481  1.204359\n",
              "Shooter         71.881188  188.853387  ...    2.355861  1.534881\n",
              "Simulation      64.670886  157.659526  ...    2.923804  1.709913\n",
              "Sports          70.696970  241.991474  ...    2.835634  1.683934\n",
              "Strategy        73.500000  151.859155  ...    2.913574  1.706919\n",
              "\n",
              "[12 rows x 6 columns]"
            ]
          },
          "metadata": {
            "tags": []
          },
          "execution_count": 53
        }
      ]
    },
    {
      "cell_type": "markdown",
      "metadata": {
        "id": "_Q4ouw0aI9ZZ"
      },
      "source": [
        "Полученные данные для наглядности следует далее представить в виде графиков."
      ]
    },
    {
      "cell_type": "markdown",
      "metadata": {
        "id": "wNmDi9C7AmKI"
      },
      "source": [
        "## 6.2 Построение графиков"
      ]
    },
    {
      "cell_type": "markdown",
      "metadata": {
        "id": "oy-P84yMPqIc"
      },
      "source": [
        "Построим диаграммы размаха для оценок критиков и игроков.\n",
        "\n",
        "Оценки критиков находятся в промежутке от 0 до 100, а у игроков от 0 до 10, чтобы графики были сопоставимы, вместо автомасштабирования зададим сторигие рамки по оси Х от 10 до 100 для оценок критиков и от 1 до 10 для оценок игроков."
      ]
    },
    {
      "cell_type": "code",
      "metadata": {
        "id": "Za1753pDPqIc",
        "colab": {
          "base_uri": "https://localhost:8080/",
          "height": 574
        },
        "cellView": "form",
        "outputId": "a0320503-8c41-4ec9-a058-ce0cb6785c4b"
      },
      "source": [
        "ax = sns.boxplot(x='critic_score', y='genre_name', \n",
        "            data=work_data,\n",
        "            showfliers=False  # настройка отображения выбросов\n",
        "           )\n",
        "\n",
        "ax.set_title('Диаграмма размаха оценок критиков по жанрам')\n",
        "ax.set_xlim(10, 100)  # установка сопостовимых масштабов\n",
        "ax.figure.set_size_inches(10, 4)\n",
        "ax.grid(True)\n",
        "plt.show()\n",
        "\n",
        "ax = sns.boxplot(x='gamer_score', y='genre_name', \n",
        "            data=work_data,\n",
        "            showfliers=False  # настройка отображения выбросов\n",
        "           )\n",
        "\n",
        "ax.set_title('Диаграмма размаха оценок игороков по жанрам')\n",
        "ax.set_xlim(1, 10)  # установка сопостовимых масштабов\n",
        "ax.figure.set_size_inches(10, 4)\n",
        "ax.grid(True)\n",
        "plt.show()"
      ],
      "execution_count": 54,
      "outputs": [
        {
          "output_type": "display_data",
          "data": {
            "image/png": "[encoded data removed]",
            "text/plain": [
              "<Figure size 720x288 with 1 Axes>"
            ]
          },
          "metadata": {
            "tags": [],
            "needs_background": "light"
          }
        },
        {
          "output_type": "display_data",
          "data": {
            "image/png": "[encoded data removed]",
            "text/plain": [
              "<Figure size 720x288 with 1 Axes>"
            ]
          },
          "metadata": {
            "tags": [],
            "needs_background": "light"
          }
        }
      ]
    },
    {
      "cell_type": "markdown",
      "metadata": {
        "id": "5DlIgu_WPqIe"
      },
      "source": [
        "У диаграмм размаха наблюдается скошенность влево, что для игр можно объяснить как:\n",
        "* В рекламных целях игры приукрашивают, завышают ожидания, что оборачивается разочарованием и низкими оценками;\n",
        "* Однако игры постепенно дорабатывают, выпускают дополнения и в итоге средняя оценка постепенно растёт.\n"
      ]
    },
    {
      "cell_type": "markdown",
      "metadata": {
        "id": "eTfyP96BQHKC"
      },
      "source": [
        "**Выводы**\n",
        "\n",
        "Согласно диаграммам размаха, можно сделать выводы:\n",
        "* Критики редко ставят низкие оценки, часто отличные, близкие к высшему балу;\n",
        "* Игроки часто ставят низкие оценки, редко отличные, близкие к низшему балу;\n",
        "* Несмотря на противоположные подходы в выставлению оценок, распеределения оценок игроков и критиков уже расходятся незначительно, и часто сходятся, в среднем критики и игроки более единодушы в оценках."
      ]
    },
    {
      "cell_type": "markdown",
      "metadata": {
        "id": "6_HlbH-FRlfT"
      },
      "source": [
        "<a name=\"7\"></a>\n",
        "# Этап 7. Проверка гипотез"
      ]
    },
    {
      "cell_type": "markdown",
      "metadata": {
        "id": "G9LgjpB5RrN5"
      },
      "source": [
        "## 7.1 Гипотеза: Средние рейтинги игроков для платформ Xbox One и PC одинаковые;"
      ]
    },
    {
      "cell_type": "markdown",
      "metadata": {
        "id": "dY-Z3_Zi8sxQ"
      },
      "source": [
        "Для проверки гипотезы связи значений воспользуемся нулевой гипотезой.\n",
        "\n",
        "Сформулируем нулевую гипотезу H<sub>0</sub> и альтернативную H<sub>1</sub>:\n",
        "\n",
        "* H<sub>0</sub>: \"Средние рейтинги игроков для платформ Xbox One и PC - **равны**\"\n",
        "* H<sub>1</sub>: \"Средние рейтинги игроков для платформ Xbox One и PC - **не равны**\"\n",
        "\n",
        "Проверим нулевую гипотезу."
      ]
    },
    {
      "cell_type": "markdown",
      "metadata": {
        "id": "rvm9A7iLPqIe"
      },
      "source": [
        "Перед началом проверки гипотез слудует выяснить насколько равны дисперсии совокупностей"
      ]
    },
    {
      "cell_type": "code",
      "metadata": {
        "id": "SpssfiX7PqIf",
        "colab": {
          "base_uri": "https://localhost:8080/"
        },
        "cellView": "form",
        "outputId": "5bc64f19-bc5a-4ca2-d6e7-dcda257aa963"
      },
      "source": [
        "critic_score_var = (\n",
        "    work_data\n",
        "    .groupby('genre_name')['critic_score']  # отбор жанров и оценок\n",
        "    .agg(['var'])  # расчёт показателей\n",
        "    )\n",
        "\n",
        "gamer_score_var = (\n",
        "    work_data\n",
        "    .groupby('genre_name')['gamer_score']  # отбор жанров и оценок\n",
        "    .agg(['var'])  # расчёт показателей\n",
        "    )\n",
        "\n",
        "a = [float(n) for n in critic_score_var.values]\n",
        "b = [float(n) for n in gamer_score_var.values]\n",
        "\n",
        "stat, p = st.levene(a, b)\n",
        "\n",
        "alpha = 0.05\n",
        "\n",
        "if p < alpha:\n",
        "    print(f'P-значение равно {p:.2%}, что меньше уровня значимости {alpha:.0%}, значит дисперсии НЕ равны.')\n",
        "else:\n",
        "    print(f'P-значение равно {p:.2%}, что выше уровня значимости {alpha:.0%}, значит дисперсии равны.')    \n"
      ],
      "execution_count": 55,
      "outputs": [
        {
          "output_type": "stream",
          "text": [
            "P-значение равно 0.71%, что меньше уровня значимости 5%, значит дисперсии НЕ равны.\n"
          ],
          "name": "stdout"
        }
      ]
    },
    {
      "cell_type": "markdown",
      "metadata": {
        "id": "tHPPiObQPqIf"
      },
      "source": [
        "Небольшое значение р говорит о том, что совокупности не имеют равных дисперсий.\n",
        "\n",
        "Следовательно при проверке гипотез необходимо использовать параметр неравенства дисперсий: `equal_var = False`"
      ]
    },
    {
      "cell_type": "markdown",
      "metadata": {
        "id": "7ZF_tGA1PqIf"
      },
      "source": [
        "Функция проверки гипотез через T-критерий Стьюдента не работает с данными с пропусками, следует удалить пропуски, полученный набор данных назавём `work_data_dropna`"
      ]
    },
    {
      "cell_type": "code",
      "metadata": {
        "colab": {
          "base_uri": "https://localhost:8080/"
        },
        "id": "TRSZHqmZQH21",
        "cellView": "form",
        "outputId": "efca9358-cf91-493b-b1e6-0a798bf30755"
      },
      "source": [
        "work_data_dropna = work_data.dropna()\n",
        "print('Число пропусков в данных:')\n",
        "work_data_dropna.isna().sum()"
      ],
      "execution_count": 56,
      "outputs": [
        {
          "output_type": "stream",
          "text": [
            "Число пропусков в данных:\n"
          ],
          "name": "stdout"
        },
        {
          "output_type": "execute_result",
          "data": {
            "text/plain": [
              "game_name            0\n",
              "platform_name        0\n",
              "year_of_release      0\n",
              "genre_name           0\n",
              "na_sales             0\n",
              "eu_sales             0\n",
              "jp_sales             0\n",
              "other_sales          0\n",
              "total_sales          0\n",
              "critic_score         0\n",
              "gamer_score          0\n",
              "esrb_rating          0\n",
              "esrb_rating_codes    0\n",
              "dtype: int64"
            ]
          },
          "metadata": {
            "tags": []
          },
          "execution_count": 56
        }
      ]
    },
    {
      "cell_type": "markdown",
      "metadata": {
        "id": "FijgYaIZQvtK"
      },
      "source": [
        "Пропуски удалены, можно проверять гипотезы"
      ]
    },
    {
      "cell_type": "code",
      "metadata": {
        "id": "gHikvvOMAl6D",
        "colab": {
          "base_uri": "https://localhost:8080/"
        },
        "outputId": "428eb865-59d4-4496-8297-074d6e911da5"
      },
      "source": [
        "# определение образцов выборки\n",
        "sample_1 = work_data_dropna[work_data_dropna['platform_name'] == 'XOne']['gamer_score']\n",
        "sample_2 = work_data_dropna[work_data_dropna['platform_name'] == 'PC']['gamer_score']\n",
        "\n",
        "alpha = 0.05  # критический уровень статистической значимости\n",
        "\n",
        "results = st.ttest_ind(sample_1, sample_2, equal_var=False)  # сравнение выборок\n",
        "\n",
        "p = results.pvalue \n",
        "\n",
        "if p < alpha:\n",
        "    print(f'P-значение равно {p:.2%}, что меньше уровня значимости {alpha:.0%}')\n",
        "    print('Отвергаем нулевую гипотезу')\n",
        "else:\n",
        "    print(f'P-значение равно {p:.2%}, что выше уровня значимости {alpha:.0%}')    \n",
        "    print('Не получилось отвергнуть нулевую гипотезу')    \n"
      ],
      "execution_count": 57,
      "outputs": [
        {
          "output_type": "stream",
          "text": [
            "P-значение равно 91.27%, что выше уровня значимости 5%\n",
            "Не получилось отвергнуть нулевую гипотезу\n"
          ],
          "name": "stdout"
        }
      ]
    },
    {
      "cell_type": "markdown",
      "metadata": {
        "id": "4SUz0k2qhPzK"
      },
      "source": [
        "Значение статистической значимости около наивысшей границы, что говорит, что вереятность равенства средних оценок высока.\n",
        "\n",
        "**Гипотеза:** \"Средние рейтинги игроков для платформ Xbox One и PC одинаковые\" **подтреждена**."
      ]
    },
    {
      "cell_type": "markdown",
      "metadata": {
        "id": "d04XWHMORxij"
      },
      "source": [
        "## 7.2 Гипотеза: Средние рейтинги игроков для жанров Action и Sports - разные"
      ]
    },
    {
      "cell_type": "markdown",
      "metadata": {
        "id": "I3MGzNp080R8"
      },
      "source": [
        "Для проверки гипотезы связи значений воспользуемся нулевой гипотезой.\n",
        "\n",
        "Сформулируем нулевую гипотезу H<sub>0</sub> и альтернативную H<sub>1</sub>:\n",
        "\n",
        "* H<sub>0</sub>: \"Средние рейтинги игроков для жанров Action и Sports - **равны**\"\n",
        "* H<sub>1</sub>: \"Средние рейтинги игроков для жанров Action и Sports - **не равны**\"\n",
        "\n",
        "Проверим нулевую гипотезу."
      ]
    },
    {
      "cell_type": "code",
      "metadata": {
        "id": "MecHSUI8ApuP",
        "colab": {
          "base_uri": "https://localhost:8080/"
        },
        "cellView": "form",
        "outputId": "b3610e2d-740a-407d-ab59-a4e1747ca246"
      },
      "source": [
        "# определение образцов выборки\n",
        "sample_1 = work_data_dropna[work_data_dropna['genre_name'] == 'Action']['gamer_score']\n",
        "sample_2 = work_data_dropna[work_data_dropna['genre_name'] == 'Sports']['gamer_score']\n",
        "\n",
        "alpha = 0.05  # критический уровень статистической значимости\n",
        "\n",
        "results = st.ttest_ind(sample_1, sample_2, equal_var=False)  # сравнение выборок\n",
        "\n",
        "p = results.pvalue \n",
        "\n",
        "if p < alpha:\n",
        "    print(f'P-значение равно {p:.10%}, что меньше уровня значимости {alpha:.0%}')\n",
        "    print('Отвергаем нулевую гипотезу')\n",
        "else:\n",
        "    print(f'P-значение равно {p:.2%}, что выше уровня значимости {alpha:.0%}')    \n",
        "    print('Не получилось отвергнуть нулевую гипотезу')    "
      ],
      "execution_count": 58,
      "outputs": [
        {
          "output_type": "stream",
          "text": [
            "P-значение равно 0.0000000895%, что меньше уровня значимости 5%\n",
            "Отвергаем нулевую гипотезу\n"
          ],
          "name": "stdout"
        }
      ]
    },
    {
      "cell_type": "markdown",
      "metadata": {
        "id": "rMpPa_v-hX97"
      },
      "source": [
        "Значение статистической значимости исчезающе мало, следовательно гипотеза о том, что средние рейтинги игроков равны - отвергнута. А значит подтверждается альтернативная гипотеза, о том что средние оценки по жанрав неравны.\n",
        "\n",
        "**Гипотеза:** \"Средние рейтинги игроков для жанров Action и Sports - разные\" **подтреждена**."
      ]
    },
    {
      "cell_type": "markdown",
      "metadata": {
        "id": "Xlc4UZMXhoNL"
      },
      "source": [
        "<a name=\"8\"></a>\n",
        "# Этап 8. Общие выводы"
      ]
    },
    {
      "cell_type": "markdown",
      "metadata": {
        "id": "fpaXyVk1hszT"
      },
      "source": [
        "**Задача для анализа**\n",
        "\n",
        "Вы работаете в интернет-магазине «Стримчик», который продаёт по всему миру компьютерные игры. Из открытых источников доступны исторические данные о продажах игр, оценки игроков и экспертов, жанры и платформы (например, Xbox или PlayStation). Вам нужно выявить определяющие успешность игры закономерности. Это позволит сделать ставку на потенциально популярный продукт и спланировать рекламные кампании."
      ]
    },
    {
      "cell_type": "markdown",
      "metadata": {
        "id": "ymxfh7AXPqIk"
      },
      "source": [
        "## Результаты исследования"
      ]
    },
    {
      "cell_type": "markdown",
      "metadata": {
        "id": "hHJPNiWKPqIk"
      },
      "source": [
        "### Ход исследования"
      ]
    },
    {
      "cell_type": "markdown",
      "metadata": {
        "id": "2Tmi6OQePqIl"
      },
      "source": [
        "1. **Обработка данных**\n",
        "    \n",
        "    Чтобы превести данные впорядок пришлось уточнить название столбцов, оставить пропуски, которые не мешали большинству исследований. Пропуски пришлось убирать только для проверки гипотез.\n",
        "    \n",
        "2. **Анализ данных**\n",
        "    \n",
        "    Анализ продаж по годам выявил что до 2008 года был бурный рост игровой индустрии, в 2008-2009 годах пик продаж, а с 2010 года началось падение продаж, именно последняя тенденция спада продаж была взята для анализа.\n",
        "    \n",
        "    Удалось выяснить, что средняя жизнь платформы около 7 лет, что примерно соответствут жизни белки, срок жизни может показаться коротким, однако популярные платформы за это время умудряются продать игры на сотни миллионов долларов США.\n",
        "    \n",
        "    В платформах доминирует \"большая тройка\" - \"PS4\", \"XOne\" и \"3DS\", Япония и США лидеры в производстве игр.\n",
        "    \n",
        "    По жанрам спрос игроков приходятся больше на активные игры, чем на интеллектуальные. \n",
        "    \n",
        "    Оказалось, что несмотря на то что игроки являются конечными покупателями игр, тем неменее продажи не зависят от оценки игроков из-за индивидуальности вкусов игроков, а вот связь между продажами и оценками критиков имеется, хотя слабая, критики действительно стремятся предсказывать успешность игры.\n",
        "    \n",
        "3. **Составление портрета игроков**    \n",
        "\n",
        "    Сравнительный анализ продаж и жанров по регионам дал понимание, что вкусы Америки и Европы очень близки, а с Японией непохожи. В Японии и США лидируют отечественные платформы по производству игр, а в Европе нет собственного крупного отечественного производителя игр. Несмотря на различие вкусов, Японии удалось отвоевать у США лидерство на европейском рынке.\n",
        "    \n",
        "    Анализ влияния рейтинга на продажи подтвердил назначение рейтинга, сдерживания продаж игр, с ограничениями для пользователей, однако такая связь крайне слабая. А в целом рейтинг не влияет на продажи.\n",
        "    \n",
        "   Однако можно рейтинг показывает где сосредоточен наиболее платёжеспособный спрос, что полезно для максимизации продаж.\n",
        "     \n",
        "    \n",
        "4. **Статистический анализ**\n",
        "\n",
        "    Статистический анализ показал, что хотя разброс в оценках критиков и игроков разный, а вот средние показатели достаточно близки, в среднем критики и игроки очень близки в своём мнение, а вот по отдельности игроки ставят больше низких оценок, а критики больше хороших.\n",
        "    \n",
        "    Так же проверка статистических гипотез показала, что в разных жанрах, на разных платформах средние оценки могут быть схожи по своему характеру. Что можно объяснить, что одни и теже игры выходят на разных платформах, одни и теже игроки играют в разные жанры.\n",
        "    \n",
        "**Исследование дало множество информации для возможности улучшить стратегию продаж на следующий год**    \n",
        "    "
      ]
    },
    {
      "cell_type": "markdown",
      "metadata": {
        "id": "B_Vaw5mboPPO"
      },
      "source": [
        "### Стратегия продаж\n"
      ]
    },
    {
      "cell_type": "markdown",
      "metadata": {
        "id": "WxHt31MrPqIm"
      },
      "source": [
        "#### Ставка на мнения участников\n",
        "* **Мнение критиков** слабо взаимосвязанно с продажами, одноко за мнениями критиков полезно следить и использовать для анализа;\n",
        "* **Мнение игроков** с продажами взаимосвязано на уровне статистической погрешности, на мнение игроков не стоит делать ставку;\n",
        "* У разных регионов разные вкусы, для понимания и подстройки продаж под вкусы регионов помогут мнения критиков"
      ]
    },
    {
      "cell_type": "markdown",
      "metadata": {
        "id": "bx6jWxDWPqIm"
      },
      "source": [
        "#### Ставка на платформы\n",
        "* Стационарные платформы находятся в тенденции падании продаж, а продажи на мобильных платформах растут, следует концентрироваться на мобыльных платформах;\n",
        "* Следует делать ставку на продажи на наиболее прибыльных платформах: `\"PS4\", \"XOne\" и \"3DS\"`;\n",
        "* У платформ есть фаза роста и фаза падения, лучше делать ставки на растущие платформы;\n",
        "* После 2-3 летнего спада продаж, следует задумываться о перераспределении рекламного бюджета на новые растущие платформы;\n",
        "* Персональный компьютер стабильная платформа, без высокой прибыли и без высокого риска.\n",
        "* Оценки на разных платформах и по разным жанрам могут быть одинаковыми, что означает:\n",
        "    * игроки пользуются разными платформами и играют в игры разных жанров;\n",
        "    * выгоднее продавать игры разных жанров для разных платформ, чем концентрировать на отдельных жанрах и платформах.\n",
        "\n"
      ]
    },
    {
      "cell_type": "markdown",
      "metadata": {
        "id": "KAZegoK7PqIm"
      },
      "source": [
        "#### Ставка на жанры\n",
        "* Продажи по жанрам могут различатся в десятки раз, следует делать ставку на активные игры;\n",
        "* В разных регионах разные вкусы, в стратегии продаж нужно учитывать вкусы каждого региона;\n",
        "* Выгодно расширять набор жанров одни и теже игроки играют в разные игры на разных платформах, нет смысла концетрации на отдельных жанрах и платформах.\n"
      ]
    },
    {
      "cell_type": "markdown",
      "metadata": {
        "id": "Mir0kQutPqIm"
      },
      "source": [
        "\n",
        "#### Ставка на рейтинг\n",
        "\n",
        "* Рейтинг не влияет на продажи, но показывет как распределён платежеспособный спрос;\n",
        "* Игры для взрослых и зарабаютывающих людей дают наибольшие продажи, чем игры для наиболее активных игроков-подростков."
      ]
    },
    {
      "cell_type": "markdown",
      "metadata": {
        "id": "aHloUQtpPqIn"
      },
      "source": [
        "## Сводка стратегии продаж\n",
        "\n",
        "* Переходить с падающего рынка стационарных платформ на мобильные платформы;\n",
        "* Максимально расширять охват жанров и платформ;\n",
        "* Быстро переключаться с умирающих платформ на растущие;\n",
        "* Часть списка продаж формировать на основе оценок именитых критиков;\n",
        "* Подстраивать продажи под региональные вкусы;\n",
        "* Принимать мнения игроков для улучшения обслуживания, но игнорировать мнение игроков, о том какие игры продавать;\n",
        "* Делать ставку на игры с рейтингом для платежеспособных взрослых, потом для всех, а далее уже для подростков и детей."
      ]
    }
  ]
}